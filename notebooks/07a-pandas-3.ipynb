{
  "cells": [
    {
      "cell_type": "markdown",
      "id": "0",
      "metadata": {
        "id": "0"
      },
      "source": [
        "# Working with Real Data in Pandas"
      ]
    },
    {
      "cell_type": "markdown",
      "id": "1",
      "metadata": {
        "id": "1"
      },
      "source": [
        "So far we've worked with small, hand-crafted datasets to learn Pandas fundamentals. In practice, you'll load data from files, explore it to understand its structure and quality, manipulate it to suit your analysis needs, and save the results.\n",
        "\n",
        "This notebook covers the essential skills for that workflow:\n",
        "\n",
        "- Reading data from CSV files (and other formats)\n",
        "- Exploring and diagnosing loaded data\n",
        "- Setting and resetting index structures\n",
        "- Filtering data with boolean indexing and queries\n",
        "- Creating custom transformations with `apply()`\n",
        "- Working with dates and times\n",
        "- Saving processed data"
      ]
    },
    {
      "cell_type": "code",
      "source": [
        "!mkdir data"
      ],
      "metadata": {
        "id": "E7C7_ScSElKo"
      },
      "id": "E7C7_ScSElKo",
      "execution_count": 1,
      "outputs": []
    },
    {
      "cell_type": "code",
      "execution_count": 2,
      "id": "2",
      "metadata": {
        "id": "2"
      },
      "outputs": [],
      "source": [
        "import numpy as np\n",
        "import pandas as pd"
      ]
    },
    {
      "cell_type": "markdown",
      "id": "3",
      "metadata": {
        "id": "3"
      },
      "source": [
        "## Loading Data from Files"
      ]
    },
    {
      "cell_type": "markdown",
      "id": "4",
      "metadata": {
        "id": "4"
      },
      "source": [
        "The most common way to get data into Pandas is from CSV (comma-separated values) files. The `read_csv()` function handles this with many options to control how the data is loaded and interpreted."
      ]
    },
    {
      "cell_type": "markdown",
      "id": "5",
      "metadata": {
        "id": "5"
      },
      "source": [
        "### Basic CSV Reading"
      ]
    },
    {
      "cell_type": "markdown",
      "id": "6",
      "metadata": {
        "id": "6"
      },
      "source": [
        "At its simplest, `read_csv()` takes a file path and returns a DataFrame."
      ]
    },
    {
      "cell_type": "code",
      "execution_count": 3,
      "id": "7",
      "metadata": {
        "id": "7",
        "outputId": "30f56f63-d936-4a4a-9407-bec97a2781cd",
        "colab": {
          "base_uri": "https://localhost:8080/",
          "height": 269
        }
      },
      "outputs": [
        {
          "output_type": "execute_result",
          "data": {
            "text/plain": [
              "         date   product  quantity  price region\n",
              "0  2024-01-15  Widget A     100.0   25.5  North\n",
              "1  2024-01-16  Widget B     150.0   30.0  South\n",
              "2  2024-01-17  Widget A     200.0   25.5   East\n",
              "3  2024-01-18  Widget C      75.0   45.0   West\n",
              "4  2024-01-19  Widget B     125.0   30.0  North\n",
              "5  2024-01-20  Widget A       NaN    NaN  South\n",
              "6  2024-01-21  Widget C      90.0   45.0   East"
            ],
            "text/html": [
              "\n",
              "  <div id=\"df-14ac20d5-0fb7-48b9-9db5-39d63be87b3e\" class=\"colab-df-container\">\n",
              "    <div>\n",
              "<style scoped>\n",
              "    .dataframe tbody tr th:only-of-type {\n",
              "        vertical-align: middle;\n",
              "    }\n",
              "\n",
              "    .dataframe tbody tr th {\n",
              "        vertical-align: top;\n",
              "    }\n",
              "\n",
              "    .dataframe thead th {\n",
              "        text-align: right;\n",
              "    }\n",
              "</style>\n",
              "<table border=\"1\" class=\"dataframe\">\n",
              "  <thead>\n",
              "    <tr style=\"text-align: right;\">\n",
              "      <th></th>\n",
              "      <th>date</th>\n",
              "      <th>product</th>\n",
              "      <th>quantity</th>\n",
              "      <th>price</th>\n",
              "      <th>region</th>\n",
              "    </tr>\n",
              "  </thead>\n",
              "  <tbody>\n",
              "    <tr>\n",
              "      <th>0</th>\n",
              "      <td>2024-01-15</td>\n",
              "      <td>Widget A</td>\n",
              "      <td>100.0</td>\n",
              "      <td>25.5</td>\n",
              "      <td>North</td>\n",
              "    </tr>\n",
              "    <tr>\n",
              "      <th>1</th>\n",
              "      <td>2024-01-16</td>\n",
              "      <td>Widget B</td>\n",
              "      <td>150.0</td>\n",
              "      <td>30.0</td>\n",
              "      <td>South</td>\n",
              "    </tr>\n",
              "    <tr>\n",
              "      <th>2</th>\n",
              "      <td>2024-01-17</td>\n",
              "      <td>Widget A</td>\n",
              "      <td>200.0</td>\n",
              "      <td>25.5</td>\n",
              "      <td>East</td>\n",
              "    </tr>\n",
              "    <tr>\n",
              "      <th>3</th>\n",
              "      <td>2024-01-18</td>\n",
              "      <td>Widget C</td>\n",
              "      <td>75.0</td>\n",
              "      <td>45.0</td>\n",
              "      <td>West</td>\n",
              "    </tr>\n",
              "    <tr>\n",
              "      <th>4</th>\n",
              "      <td>2024-01-19</td>\n",
              "      <td>Widget B</td>\n",
              "      <td>125.0</td>\n",
              "      <td>30.0</td>\n",
              "      <td>North</td>\n",
              "    </tr>\n",
              "    <tr>\n",
              "      <th>5</th>\n",
              "      <td>2024-01-20</td>\n",
              "      <td>Widget A</td>\n",
              "      <td>NaN</td>\n",
              "      <td>NaN</td>\n",
              "      <td>South</td>\n",
              "    </tr>\n",
              "    <tr>\n",
              "      <th>6</th>\n",
              "      <td>2024-01-21</td>\n",
              "      <td>Widget C</td>\n",
              "      <td>90.0</td>\n",
              "      <td>45.0</td>\n",
              "      <td>East</td>\n",
              "    </tr>\n",
              "  </tbody>\n",
              "</table>\n",
              "</div>\n",
              "    <div class=\"colab-df-buttons\">\n",
              "\n",
              "  <div class=\"colab-df-container\">\n",
              "    <button class=\"colab-df-convert\" onclick=\"convertToInteractive('df-14ac20d5-0fb7-48b9-9db5-39d63be87b3e')\"\n",
              "            title=\"Convert this dataframe to an interactive table.\"\n",
              "            style=\"display:none;\">\n",
              "\n",
              "  <svg xmlns=\"http://www.w3.org/2000/svg\" height=\"24px\" viewBox=\"0 -960 960 960\">\n",
              "    <path d=\"M120-120v-720h720v720H120Zm60-500h600v-160H180v160Zm220 220h160v-160H400v160Zm0 220h160v-160H400v160ZM180-400h160v-160H180v160Zm440 0h160v-160H620v160ZM180-180h160v-160H180v160Zm440 0h160v-160H620v160Z\"/>\n",
              "  </svg>\n",
              "    </button>\n",
              "\n",
              "  <style>\n",
              "    .colab-df-container {\n",
              "      display:flex;\n",
              "      gap: 12px;\n",
              "    }\n",
              "\n",
              "    .colab-df-convert {\n",
              "      background-color: #E8F0FE;\n",
              "      border: none;\n",
              "      border-radius: 50%;\n",
              "      cursor: pointer;\n",
              "      display: none;\n",
              "      fill: #1967D2;\n",
              "      height: 32px;\n",
              "      padding: 0 0 0 0;\n",
              "      width: 32px;\n",
              "    }\n",
              "\n",
              "    .colab-df-convert:hover {\n",
              "      background-color: #E2EBFA;\n",
              "      box-shadow: 0px 1px 2px rgba(60, 64, 67, 0.3), 0px 1px 3px 1px rgba(60, 64, 67, 0.15);\n",
              "      fill: #174EA6;\n",
              "    }\n",
              "\n",
              "    .colab-df-buttons div {\n",
              "      margin-bottom: 4px;\n",
              "    }\n",
              "\n",
              "    [theme=dark] .colab-df-convert {\n",
              "      background-color: #3B4455;\n",
              "      fill: #D2E3FC;\n",
              "    }\n",
              "\n",
              "    [theme=dark] .colab-df-convert:hover {\n",
              "      background-color: #434B5C;\n",
              "      box-shadow: 0px 1px 3px 1px rgba(0, 0, 0, 0.15);\n",
              "      filter: drop-shadow(0px 1px 2px rgba(0, 0, 0, 0.3));\n",
              "      fill: #FFFFFF;\n",
              "    }\n",
              "  </style>\n",
              "\n",
              "    <script>\n",
              "      const buttonEl =\n",
              "        document.querySelector('#df-14ac20d5-0fb7-48b9-9db5-39d63be87b3e button.colab-df-convert');\n",
              "      buttonEl.style.display =\n",
              "        google.colab.kernel.accessAllowed ? 'block' : 'none';\n",
              "\n",
              "      async function convertToInteractive(key) {\n",
              "        const element = document.querySelector('#df-14ac20d5-0fb7-48b9-9db5-39d63be87b3e');\n",
              "        const dataTable =\n",
              "          await google.colab.kernel.invokeFunction('convertToInteractive',\n",
              "                                                    [key], {});\n",
              "        if (!dataTable) return;\n",
              "\n",
              "        const docLinkHtml = 'Like what you see? Visit the ' +\n",
              "          '<a target=\"_blank\" href=https://colab.research.google.com/notebooks/data_table.ipynb>data table notebook</a>'\n",
              "          + ' to learn more about interactive tables.';\n",
              "        element.innerHTML = '';\n",
              "        dataTable['output_type'] = 'display_data';\n",
              "        await google.colab.output.renderOutput(dataTable, element);\n",
              "        const docLink = document.createElement('div');\n",
              "        docLink.innerHTML = docLinkHtml;\n",
              "        element.appendChild(docLink);\n",
              "      }\n",
              "    </script>\n",
              "  </div>\n",
              "\n",
              "\n",
              "    <div id=\"df-40208443-5eb5-46e2-8aec-8e35e5bb45ed\">\n",
              "      <button class=\"colab-df-quickchart\" onclick=\"quickchart('df-40208443-5eb5-46e2-8aec-8e35e5bb45ed')\"\n",
              "                title=\"Suggest charts\"\n",
              "                style=\"display:none;\">\n",
              "\n",
              "<svg xmlns=\"http://www.w3.org/2000/svg\" height=\"24px\"viewBox=\"0 0 24 24\"\n",
              "     width=\"24px\">\n",
              "    <g>\n",
              "        <path d=\"M19 3H5c-1.1 0-2 .9-2 2v14c0 1.1.9 2 2 2h14c1.1 0 2-.9 2-2V5c0-1.1-.9-2-2-2zM9 17H7v-7h2v7zm4 0h-2V7h2v10zm4 0h-2v-4h2v4z\"/>\n",
              "    </g>\n",
              "</svg>\n",
              "      </button>\n",
              "\n",
              "<style>\n",
              "  .colab-df-quickchart {\n",
              "      --bg-color: #E8F0FE;\n",
              "      --fill-color: #1967D2;\n",
              "      --hover-bg-color: #E2EBFA;\n",
              "      --hover-fill-color: #174EA6;\n",
              "      --disabled-fill-color: #AAA;\n",
              "      --disabled-bg-color: #DDD;\n",
              "  }\n",
              "\n",
              "  [theme=dark] .colab-df-quickchart {\n",
              "      --bg-color: #3B4455;\n",
              "      --fill-color: #D2E3FC;\n",
              "      --hover-bg-color: #434B5C;\n",
              "      --hover-fill-color: #FFFFFF;\n",
              "      --disabled-bg-color: #3B4455;\n",
              "      --disabled-fill-color: #666;\n",
              "  }\n",
              "\n",
              "  .colab-df-quickchart {\n",
              "    background-color: var(--bg-color);\n",
              "    border: none;\n",
              "    border-radius: 50%;\n",
              "    cursor: pointer;\n",
              "    display: none;\n",
              "    fill: var(--fill-color);\n",
              "    height: 32px;\n",
              "    padding: 0;\n",
              "    width: 32px;\n",
              "  }\n",
              "\n",
              "  .colab-df-quickchart:hover {\n",
              "    background-color: var(--hover-bg-color);\n",
              "    box-shadow: 0 1px 2px rgba(60, 64, 67, 0.3), 0 1px 3px 1px rgba(60, 64, 67, 0.15);\n",
              "    fill: var(--button-hover-fill-color);\n",
              "  }\n",
              "\n",
              "  .colab-df-quickchart-complete:disabled,\n",
              "  .colab-df-quickchart-complete:disabled:hover {\n",
              "    background-color: var(--disabled-bg-color);\n",
              "    fill: var(--disabled-fill-color);\n",
              "    box-shadow: none;\n",
              "  }\n",
              "\n",
              "  .colab-df-spinner {\n",
              "    border: 2px solid var(--fill-color);\n",
              "    border-color: transparent;\n",
              "    border-bottom-color: var(--fill-color);\n",
              "    animation:\n",
              "      spin 1s steps(1) infinite;\n",
              "  }\n",
              "\n",
              "  @keyframes spin {\n",
              "    0% {\n",
              "      border-color: transparent;\n",
              "      border-bottom-color: var(--fill-color);\n",
              "      border-left-color: var(--fill-color);\n",
              "    }\n",
              "    20% {\n",
              "      border-color: transparent;\n",
              "      border-left-color: var(--fill-color);\n",
              "      border-top-color: var(--fill-color);\n",
              "    }\n",
              "    30% {\n",
              "      border-color: transparent;\n",
              "      border-left-color: var(--fill-color);\n",
              "      border-top-color: var(--fill-color);\n",
              "      border-right-color: var(--fill-color);\n",
              "    }\n",
              "    40% {\n",
              "      border-color: transparent;\n",
              "      border-right-color: var(--fill-color);\n",
              "      border-top-color: var(--fill-color);\n",
              "    }\n",
              "    60% {\n",
              "      border-color: transparent;\n",
              "      border-right-color: var(--fill-color);\n",
              "    }\n",
              "    80% {\n",
              "      border-color: transparent;\n",
              "      border-right-color: var(--fill-color);\n",
              "      border-bottom-color: var(--fill-color);\n",
              "    }\n",
              "    90% {\n",
              "      border-color: transparent;\n",
              "      border-bottom-color: var(--fill-color);\n",
              "    }\n",
              "  }\n",
              "</style>\n",
              "\n",
              "      <script>\n",
              "        async function quickchart(key) {\n",
              "          const quickchartButtonEl =\n",
              "            document.querySelector('#' + key + ' button');\n",
              "          quickchartButtonEl.disabled = true;  // To prevent multiple clicks.\n",
              "          quickchartButtonEl.classList.add('colab-df-spinner');\n",
              "          try {\n",
              "            const charts = await google.colab.kernel.invokeFunction(\n",
              "                'suggestCharts', [key], {});\n",
              "          } catch (error) {\n",
              "            console.error('Error during call to suggestCharts:', error);\n",
              "          }\n",
              "          quickchartButtonEl.classList.remove('colab-df-spinner');\n",
              "          quickchartButtonEl.classList.add('colab-df-quickchart-complete');\n",
              "        }\n",
              "        (() => {\n",
              "          let quickchartButtonEl =\n",
              "            document.querySelector('#df-40208443-5eb5-46e2-8aec-8e35e5bb45ed button');\n",
              "          quickchartButtonEl.style.display =\n",
              "            google.colab.kernel.accessAllowed ? 'block' : 'none';\n",
              "        })();\n",
              "      </script>\n",
              "    </div>\n",
              "\n",
              "  <div id=\"id_78b334c8-33ab-4e57-87e0-d8c07860f89a\">\n",
              "    <style>\n",
              "      .colab-df-generate {\n",
              "        background-color: #E8F0FE;\n",
              "        border: none;\n",
              "        border-radius: 50%;\n",
              "        cursor: pointer;\n",
              "        display: none;\n",
              "        fill: #1967D2;\n",
              "        height: 32px;\n",
              "        padding: 0 0 0 0;\n",
              "        width: 32px;\n",
              "      }\n",
              "\n",
              "      .colab-df-generate:hover {\n",
              "        background-color: #E2EBFA;\n",
              "        box-shadow: 0px 1px 2px rgba(60, 64, 67, 0.3), 0px 1px 3px 1px rgba(60, 64, 67, 0.15);\n",
              "        fill: #174EA6;\n",
              "      }\n",
              "\n",
              "      [theme=dark] .colab-df-generate {\n",
              "        background-color: #3B4455;\n",
              "        fill: #D2E3FC;\n",
              "      }\n",
              "\n",
              "      [theme=dark] .colab-df-generate:hover {\n",
              "        background-color: #434B5C;\n",
              "        box-shadow: 0px 1px 3px 1px rgba(0, 0, 0, 0.15);\n",
              "        filter: drop-shadow(0px 1px 2px rgba(0, 0, 0, 0.3));\n",
              "        fill: #FFFFFF;\n",
              "      }\n",
              "    </style>\n",
              "    <button class=\"colab-df-generate\" onclick=\"generateWithVariable('df')\"\n",
              "            title=\"Generate code using this dataframe.\"\n",
              "            style=\"display:none;\">\n",
              "\n",
              "  <svg xmlns=\"http://www.w3.org/2000/svg\" height=\"24px\"viewBox=\"0 0 24 24\"\n",
              "       width=\"24px\">\n",
              "    <path d=\"M7,19H8.4L18.45,9,17,7.55,7,17.6ZM5,21V16.75L18.45,3.32a2,2,0,0,1,2.83,0l1.4,1.43a1.91,1.91,0,0,1,.58,1.4,1.91,1.91,0,0,1-.58,1.4L9.25,21ZM18.45,9,17,7.55Zm-12,3A5.31,5.31,0,0,0,4.9,8.1,5.31,5.31,0,0,0,1,6.5,5.31,5.31,0,0,0,4.9,4.9,5.31,5.31,0,0,0,6.5,1,5.31,5.31,0,0,0,8.1,4.9,5.31,5.31,0,0,0,12,6.5,5.46,5.46,0,0,0,6.5,12Z\"/>\n",
              "  </svg>\n",
              "    </button>\n",
              "    <script>\n",
              "      (() => {\n",
              "      const buttonEl =\n",
              "        document.querySelector('#id_78b334c8-33ab-4e57-87e0-d8c07860f89a button.colab-df-generate');\n",
              "      buttonEl.style.display =\n",
              "        google.colab.kernel.accessAllowed ? 'block' : 'none';\n",
              "\n",
              "      buttonEl.onclick = () => {\n",
              "        google.colab.notebook.generateWithVariable('df');\n",
              "      }\n",
              "      })();\n",
              "    </script>\n",
              "  </div>\n",
              "\n",
              "    </div>\n",
              "  </div>\n"
            ],
            "application/vnd.google.colaboratory.intrinsic+json": {
              "type": "dataframe",
              "variable_name": "df",
              "summary": "{\n  \"name\": \"df\",\n  \"rows\": 7,\n  \"fields\": [\n    {\n      \"column\": \"date\",\n      \"properties\": {\n        \"dtype\": \"object\",\n        \"num_unique_values\": 7,\n        \"samples\": [\n          \"2024-01-15\",\n          \"2024-01-16\",\n          \"2024-01-20\"\n        ],\n        \"semantic_type\": \"\",\n        \"description\": \"\"\n      }\n    },\n    {\n      \"column\": \"product\",\n      \"properties\": {\n        \"dtype\": \"category\",\n        \"num_unique_values\": 3,\n        \"samples\": [\n          \"Widget A\",\n          \"Widget B\",\n          \"Widget C\"\n        ],\n        \"semantic_type\": \"\",\n        \"description\": \"\"\n      }\n    },\n    {\n      \"column\": \"quantity\",\n      \"properties\": {\n        \"dtype\": \"number\",\n        \"std\": 46.00724580614087,\n        \"min\": 75.0,\n        \"max\": 200.0,\n        \"num_unique_values\": 6,\n        \"samples\": [\n          100.0,\n          150.0,\n          90.0\n        ],\n        \"semantic_type\": \"\",\n        \"description\": \"\"\n      }\n    },\n    {\n      \"column\": \"price\",\n      \"properties\": {\n        \"dtype\": \"number\",\n        \"std\": 9.132360045464699,\n        \"min\": 25.5,\n        \"max\": 45.0,\n        \"num_unique_values\": 3,\n        \"samples\": [\n          25.5,\n          30.0,\n          45.0\n        ],\n        \"semantic_type\": \"\",\n        \"description\": \"\"\n      }\n    },\n    {\n      \"column\": \"region\",\n      \"properties\": {\n        \"dtype\": \"string\",\n        \"num_unique_values\": 4,\n        \"samples\": [\n          \"South\",\n          \"West\",\n          \"North\"\n        ],\n        \"semantic_type\": \"\",\n        \"description\": \"\"\n      }\n    }\n  ]\n}"
            }
          },
          "metadata": {},
          "execution_count": 3
        }
      ],
      "source": [
        "# For this example, we'll create a sample CSV file first\n",
        "# In practice, you'll usually load existing files\n",
        "\n",
        "sample_data = \"\"\"date,product,quantity,price,region\n",
        "2024-01-15,Widget A,100,25.50,North\n",
        "2024-01-16,Widget B,150,30.00,South\n",
        "2024-01-17,Widget A,200,25.50,East\n",
        "2024-01-18,Widget C,75,45.00,West\n",
        "2024-01-19,Widget B,125,30.00,North\n",
        "2024-01-20,Widget A,,,South\n",
        "2024-01-21,Widget C,90,45.00,East\n",
        "\"\"\"\n",
        "\n",
        "# Write to file\n",
        "with open('data/07a_sales_sample.csv', 'w') as f:\n",
        "    f.write(sample_data)\n",
        "\n",
        "# Load it back\n",
        "df = pd.read_csv('data/07a_sales_sample.csv')\n",
        "df"
      ]
    },
    {
      "cell_type": "markdown",
      "id": "8",
      "metadata": {
        "id": "8"
      },
      "source": [
        "Notice that Pandas automatically:\n",
        "- Used the first row as column names\n",
        "- Assigned a numeric index starting at 0\n",
        "- Inferred data types for each column (minimal, strings and floats)\n",
        "- Recognized empty values as `NaN`"
      ]
    },
    {
      "cell_type": "markdown",
      "id": "9",
      "metadata": {
        "id": "9"
      },
      "source": [
        "### Initial Data Exploration"
      ]
    },
    {
      "cell_type": "markdown",
      "id": "10",
      "metadata": {
        "id": "10"
      },
      "source": [
        "Before diving into analysis, we need to understand what we're working with. Pandas provides several tools for quick data exploration."
      ]
    },
    {
      "cell_type": "code",
      "execution_count": 4,
      "id": "11",
      "metadata": {
        "id": "11",
        "outputId": "0db2340f-2abe-4c3f-cf74-be48f153a607",
        "colab": {
          "base_uri": "https://localhost:8080/"
        }
      },
      "outputs": [
        {
          "output_type": "stream",
          "name": "stdout",
          "text": [
            "<class 'pandas.core.frame.DataFrame'>\n",
            "RangeIndex: 7 entries, 0 to 6\n",
            "Data columns (total 5 columns):\n",
            " #   Column    Non-Null Count  Dtype  \n",
            "---  ------    --------------  -----  \n",
            " 0   date      7 non-null      object \n",
            " 1   product   7 non-null      object \n",
            " 2   quantity  6 non-null      float64\n",
            " 3   price     6 non-null      float64\n",
            " 4   region    7 non-null      object \n",
            "dtypes: float64(2), object(3)\n",
            "memory usage: 412.0+ bytes\n"
          ]
        }
      ],
      "source": [
        "# Get basic information about the DataFrame\n",
        "df.info()"
      ]
    },
    {
      "cell_type": "markdown",
      "id": "12",
      "metadata": {
        "id": "12"
      },
      "source": [
        "The `info()` method shows:\n",
        "- Number of rows and columns\n",
        "- Column names and data types\n",
        "- Non-null counts (helps identify missing data)\n",
        "- Memory usage"
      ]
    },
    {
      "cell_type": "code",
      "execution_count": 5,
      "id": "13",
      "metadata": {
        "id": "13",
        "outputId": "d5c63fac-a24d-4fa1-bc94-3bc824396a25",
        "colab": {
          "base_uri": "https://localhost:8080/",
          "height": 241
        }
      },
      "outputs": [
        {
          "output_type": "execute_result",
          "data": {
            "text/plain": [
              "date         object\n",
              "product      object\n",
              "quantity    float64\n",
              "price       float64\n",
              "region       object\n",
              "dtype: object"
            ],
            "text/html": [
              "<div>\n",
              "<style scoped>\n",
              "    .dataframe tbody tr th:only-of-type {\n",
              "        vertical-align: middle;\n",
              "    }\n",
              "\n",
              "    .dataframe tbody tr th {\n",
              "        vertical-align: top;\n",
              "    }\n",
              "\n",
              "    .dataframe thead th {\n",
              "        text-align: right;\n",
              "    }\n",
              "</style>\n",
              "<table border=\"1\" class=\"dataframe\">\n",
              "  <thead>\n",
              "    <tr style=\"text-align: right;\">\n",
              "      <th></th>\n",
              "      <th>0</th>\n",
              "    </tr>\n",
              "  </thead>\n",
              "  <tbody>\n",
              "    <tr>\n",
              "      <th>date</th>\n",
              "      <td>object</td>\n",
              "    </tr>\n",
              "    <tr>\n",
              "      <th>product</th>\n",
              "      <td>object</td>\n",
              "    </tr>\n",
              "    <tr>\n",
              "      <th>quantity</th>\n",
              "      <td>float64</td>\n",
              "    </tr>\n",
              "    <tr>\n",
              "      <th>price</th>\n",
              "      <td>float64</td>\n",
              "    </tr>\n",
              "    <tr>\n",
              "      <th>region</th>\n",
              "      <td>object</td>\n",
              "    </tr>\n",
              "  </tbody>\n",
              "</table>\n",
              "</div><br><label><b>dtype:</b> object</label>"
            ]
          },
          "metadata": {},
          "execution_count": 5
        }
      ],
      "source": [
        "# Check data types explicitly\n",
        "df.dtypes"
      ]
    },
    {
      "cell_type": "code",
      "execution_count": 6,
      "id": "14",
      "metadata": {
        "id": "14",
        "outputId": "fe4b6c22-9691-424d-cab0-9e0677a58275",
        "colab": {
          "base_uri": "https://localhost:8080/",
          "height": 300
        }
      },
      "outputs": [
        {
          "output_type": "execute_result",
          "data": {
            "text/plain": [
              "         quantity     price\n",
              "count    6.000000   6.00000\n",
              "mean   123.333333  33.50000\n",
              "std     46.007246   9.13236\n",
              "min     75.000000  25.50000\n",
              "25%     92.500000  26.62500\n",
              "50%    112.500000  30.00000\n",
              "75%    143.750000  41.25000\n",
              "max    200.000000  45.00000"
            ],
            "text/html": [
              "\n",
              "  <div id=\"df-20a19253-8188-41e6-914c-92b697a5460b\" class=\"colab-df-container\">\n",
              "    <div>\n",
              "<style scoped>\n",
              "    .dataframe tbody tr th:only-of-type {\n",
              "        vertical-align: middle;\n",
              "    }\n",
              "\n",
              "    .dataframe tbody tr th {\n",
              "        vertical-align: top;\n",
              "    }\n",
              "\n",
              "    .dataframe thead th {\n",
              "        text-align: right;\n",
              "    }\n",
              "</style>\n",
              "<table border=\"1\" class=\"dataframe\">\n",
              "  <thead>\n",
              "    <tr style=\"text-align: right;\">\n",
              "      <th></th>\n",
              "      <th>quantity</th>\n",
              "      <th>price</th>\n",
              "    </tr>\n",
              "  </thead>\n",
              "  <tbody>\n",
              "    <tr>\n",
              "      <th>count</th>\n",
              "      <td>6.000000</td>\n",
              "      <td>6.00000</td>\n",
              "    </tr>\n",
              "    <tr>\n",
              "      <th>mean</th>\n",
              "      <td>123.333333</td>\n",
              "      <td>33.50000</td>\n",
              "    </tr>\n",
              "    <tr>\n",
              "      <th>std</th>\n",
              "      <td>46.007246</td>\n",
              "      <td>9.13236</td>\n",
              "    </tr>\n",
              "    <tr>\n",
              "      <th>min</th>\n",
              "      <td>75.000000</td>\n",
              "      <td>25.50000</td>\n",
              "    </tr>\n",
              "    <tr>\n",
              "      <th>25%</th>\n",
              "      <td>92.500000</td>\n",
              "      <td>26.62500</td>\n",
              "    </tr>\n",
              "    <tr>\n",
              "      <th>50%</th>\n",
              "      <td>112.500000</td>\n",
              "      <td>30.00000</td>\n",
              "    </tr>\n",
              "    <tr>\n",
              "      <th>75%</th>\n",
              "      <td>143.750000</td>\n",
              "      <td>41.25000</td>\n",
              "    </tr>\n",
              "    <tr>\n",
              "      <th>max</th>\n",
              "      <td>200.000000</td>\n",
              "      <td>45.00000</td>\n",
              "    </tr>\n",
              "  </tbody>\n",
              "</table>\n",
              "</div>\n",
              "    <div class=\"colab-df-buttons\">\n",
              "\n",
              "  <div class=\"colab-df-container\">\n",
              "    <button class=\"colab-df-convert\" onclick=\"convertToInteractive('df-20a19253-8188-41e6-914c-92b697a5460b')\"\n",
              "            title=\"Convert this dataframe to an interactive table.\"\n",
              "            style=\"display:none;\">\n",
              "\n",
              "  <svg xmlns=\"http://www.w3.org/2000/svg\" height=\"24px\" viewBox=\"0 -960 960 960\">\n",
              "    <path d=\"M120-120v-720h720v720H120Zm60-500h600v-160H180v160Zm220 220h160v-160H400v160Zm0 220h160v-160H400v160ZM180-400h160v-160H180v160Zm440 0h160v-160H620v160ZM180-180h160v-160H180v160Zm440 0h160v-160H620v160Z\"/>\n",
              "  </svg>\n",
              "    </button>\n",
              "\n",
              "  <style>\n",
              "    .colab-df-container {\n",
              "      display:flex;\n",
              "      gap: 12px;\n",
              "    }\n",
              "\n",
              "    .colab-df-convert {\n",
              "      background-color: #E8F0FE;\n",
              "      border: none;\n",
              "      border-radius: 50%;\n",
              "      cursor: pointer;\n",
              "      display: none;\n",
              "      fill: #1967D2;\n",
              "      height: 32px;\n",
              "      padding: 0 0 0 0;\n",
              "      width: 32px;\n",
              "    }\n",
              "\n",
              "    .colab-df-convert:hover {\n",
              "      background-color: #E2EBFA;\n",
              "      box-shadow: 0px 1px 2px rgba(60, 64, 67, 0.3), 0px 1px 3px 1px rgba(60, 64, 67, 0.15);\n",
              "      fill: #174EA6;\n",
              "    }\n",
              "\n",
              "    .colab-df-buttons div {\n",
              "      margin-bottom: 4px;\n",
              "    }\n",
              "\n",
              "    [theme=dark] .colab-df-convert {\n",
              "      background-color: #3B4455;\n",
              "      fill: #D2E3FC;\n",
              "    }\n",
              "\n",
              "    [theme=dark] .colab-df-convert:hover {\n",
              "      background-color: #434B5C;\n",
              "      box-shadow: 0px 1px 3px 1px rgba(0, 0, 0, 0.15);\n",
              "      filter: drop-shadow(0px 1px 2px rgba(0, 0, 0, 0.3));\n",
              "      fill: #FFFFFF;\n",
              "    }\n",
              "  </style>\n",
              "\n",
              "    <script>\n",
              "      const buttonEl =\n",
              "        document.querySelector('#df-20a19253-8188-41e6-914c-92b697a5460b button.colab-df-convert');\n",
              "      buttonEl.style.display =\n",
              "        google.colab.kernel.accessAllowed ? 'block' : 'none';\n",
              "\n",
              "      async function convertToInteractive(key) {\n",
              "        const element = document.querySelector('#df-20a19253-8188-41e6-914c-92b697a5460b');\n",
              "        const dataTable =\n",
              "          await google.colab.kernel.invokeFunction('convertToInteractive',\n",
              "                                                    [key], {});\n",
              "        if (!dataTable) return;\n",
              "\n",
              "        const docLinkHtml = 'Like what you see? Visit the ' +\n",
              "          '<a target=\"_blank\" href=https://colab.research.google.com/notebooks/data_table.ipynb>data table notebook</a>'\n",
              "          + ' to learn more about interactive tables.';\n",
              "        element.innerHTML = '';\n",
              "        dataTable['output_type'] = 'display_data';\n",
              "        await google.colab.output.renderOutput(dataTable, element);\n",
              "        const docLink = document.createElement('div');\n",
              "        docLink.innerHTML = docLinkHtml;\n",
              "        element.appendChild(docLink);\n",
              "      }\n",
              "    </script>\n",
              "  </div>\n",
              "\n",
              "\n",
              "    <div id=\"df-31d81fae-9191-4096-8da7-2116046dce90\">\n",
              "      <button class=\"colab-df-quickchart\" onclick=\"quickchart('df-31d81fae-9191-4096-8da7-2116046dce90')\"\n",
              "                title=\"Suggest charts\"\n",
              "                style=\"display:none;\">\n",
              "\n",
              "<svg xmlns=\"http://www.w3.org/2000/svg\" height=\"24px\"viewBox=\"0 0 24 24\"\n",
              "     width=\"24px\">\n",
              "    <g>\n",
              "        <path d=\"M19 3H5c-1.1 0-2 .9-2 2v14c0 1.1.9 2 2 2h14c1.1 0 2-.9 2-2V5c0-1.1-.9-2-2-2zM9 17H7v-7h2v7zm4 0h-2V7h2v10zm4 0h-2v-4h2v4z\"/>\n",
              "    </g>\n",
              "</svg>\n",
              "      </button>\n",
              "\n",
              "<style>\n",
              "  .colab-df-quickchart {\n",
              "      --bg-color: #E8F0FE;\n",
              "      --fill-color: #1967D2;\n",
              "      --hover-bg-color: #E2EBFA;\n",
              "      --hover-fill-color: #174EA6;\n",
              "      --disabled-fill-color: #AAA;\n",
              "      --disabled-bg-color: #DDD;\n",
              "  }\n",
              "\n",
              "  [theme=dark] .colab-df-quickchart {\n",
              "      --bg-color: #3B4455;\n",
              "      --fill-color: #D2E3FC;\n",
              "      --hover-bg-color: #434B5C;\n",
              "      --hover-fill-color: #FFFFFF;\n",
              "      --disabled-bg-color: #3B4455;\n",
              "      --disabled-fill-color: #666;\n",
              "  }\n",
              "\n",
              "  .colab-df-quickchart {\n",
              "    background-color: var(--bg-color);\n",
              "    border: none;\n",
              "    border-radius: 50%;\n",
              "    cursor: pointer;\n",
              "    display: none;\n",
              "    fill: var(--fill-color);\n",
              "    height: 32px;\n",
              "    padding: 0;\n",
              "    width: 32px;\n",
              "  }\n",
              "\n",
              "  .colab-df-quickchart:hover {\n",
              "    background-color: var(--hover-bg-color);\n",
              "    box-shadow: 0 1px 2px rgba(60, 64, 67, 0.3), 0 1px 3px 1px rgba(60, 64, 67, 0.15);\n",
              "    fill: var(--button-hover-fill-color);\n",
              "  }\n",
              "\n",
              "  .colab-df-quickchart-complete:disabled,\n",
              "  .colab-df-quickchart-complete:disabled:hover {\n",
              "    background-color: var(--disabled-bg-color);\n",
              "    fill: var(--disabled-fill-color);\n",
              "    box-shadow: none;\n",
              "  }\n",
              "\n",
              "  .colab-df-spinner {\n",
              "    border: 2px solid var(--fill-color);\n",
              "    border-color: transparent;\n",
              "    border-bottom-color: var(--fill-color);\n",
              "    animation:\n",
              "      spin 1s steps(1) infinite;\n",
              "  }\n",
              "\n",
              "  @keyframes spin {\n",
              "    0% {\n",
              "      border-color: transparent;\n",
              "      border-bottom-color: var(--fill-color);\n",
              "      border-left-color: var(--fill-color);\n",
              "    }\n",
              "    20% {\n",
              "      border-color: transparent;\n",
              "      border-left-color: var(--fill-color);\n",
              "      border-top-color: var(--fill-color);\n",
              "    }\n",
              "    30% {\n",
              "      border-color: transparent;\n",
              "      border-left-color: var(--fill-color);\n",
              "      border-top-color: var(--fill-color);\n",
              "      border-right-color: var(--fill-color);\n",
              "    }\n",
              "    40% {\n",
              "      border-color: transparent;\n",
              "      border-right-color: var(--fill-color);\n",
              "      border-top-color: var(--fill-color);\n",
              "    }\n",
              "    60% {\n",
              "      border-color: transparent;\n",
              "      border-right-color: var(--fill-color);\n",
              "    }\n",
              "    80% {\n",
              "      border-color: transparent;\n",
              "      border-right-color: var(--fill-color);\n",
              "      border-bottom-color: var(--fill-color);\n",
              "    }\n",
              "    90% {\n",
              "      border-color: transparent;\n",
              "      border-bottom-color: var(--fill-color);\n",
              "    }\n",
              "  }\n",
              "</style>\n",
              "\n",
              "      <script>\n",
              "        async function quickchart(key) {\n",
              "          const quickchartButtonEl =\n",
              "            document.querySelector('#' + key + ' button');\n",
              "          quickchartButtonEl.disabled = true;  // To prevent multiple clicks.\n",
              "          quickchartButtonEl.classList.add('colab-df-spinner');\n",
              "          try {\n",
              "            const charts = await google.colab.kernel.invokeFunction(\n",
              "                'suggestCharts', [key], {});\n",
              "          } catch (error) {\n",
              "            console.error('Error during call to suggestCharts:', error);\n",
              "          }\n",
              "          quickchartButtonEl.classList.remove('colab-df-spinner');\n",
              "          quickchartButtonEl.classList.add('colab-df-quickchart-complete');\n",
              "        }\n",
              "        (() => {\n",
              "          let quickchartButtonEl =\n",
              "            document.querySelector('#df-31d81fae-9191-4096-8da7-2116046dce90 button');\n",
              "          quickchartButtonEl.style.display =\n",
              "            google.colab.kernel.accessAllowed ? 'block' : 'none';\n",
              "        })();\n",
              "      </script>\n",
              "    </div>\n",
              "\n",
              "    </div>\n",
              "  </div>\n"
            ],
            "application/vnd.google.colaboratory.intrinsic+json": {
              "type": "dataframe",
              "summary": "{\n  \"name\": \"df\",\n  \"rows\": 8,\n  \"fields\": [\n    {\n      \"column\": \"quantity\",\n      \"properties\": {\n        \"dtype\": \"number\",\n        \"std\": 59.81772440278794,\n        \"min\": 6.0,\n        \"max\": 200.0,\n        \"num_unique_values\": 8,\n        \"samples\": [\n          123.33333333333333,\n          112.5,\n          6.0\n        ],\n        \"semantic_type\": \"\",\n        \"description\": \"\"\n      }\n    },\n    {\n      \"column\": \"price\",\n      \"properties\": {\n        \"dtype\": \"number\",\n        \"std\": 13.840049730310408,\n        \"min\": 6.0,\n        \"max\": 45.0,\n        \"num_unique_values\": 8,\n        \"samples\": [\n          33.5,\n          30.0,\n          6.0\n        ],\n        \"semantic_type\": \"\",\n        \"description\": \"\"\n      }\n    }\n  ]\n}"
            }
          },
          "metadata": {},
          "execution_count": 6
        }
      ],
      "source": [
        "# Get summary statistics for numeric columns\n",
        "df.describe()"
      ]
    },
    {
      "cell_type": "markdown",
      "id": "15",
      "metadata": {
        "id": "15"
      },
      "source": [
        "The `describe()` method provides count, mean, standard deviation, min, quartiles, and max for each numeric column. This is useful for spotting outliers and understanding data distributions."
      ]
    },
    {
      "cell_type": "code",
      "execution_count": 7,
      "id": "16",
      "metadata": {
        "id": "16",
        "outputId": "77f9a9cf-9286-4cea-ab80-bfae96cdf07a",
        "colab": {
          "base_uri": "https://localhost:8080/"
        }
      },
      "outputs": [
        {
          "output_type": "stream",
          "name": "stdout",
          "text": [
            "Unique products:\n",
            "['Widget A' 'Widget B' 'Widget C']\n",
            "\n",
            "Number of unique products:\n",
            "3\n"
          ]
        }
      ],
      "source": [
        "# Check unique values in a column\n",
        "print(\"Unique products:\")\n",
        "print(df['product'].unique())\n",
        "\n",
        "print(\"\\nNumber of unique products:\")\n",
        "print(df['product'].nunique())"
      ]
    },
    {
      "cell_type": "code",
      "execution_count": 8,
      "id": "17",
      "metadata": {
        "id": "17",
        "outputId": "c6546f5f-db31-4479-a3ce-f11d3fba4cb0",
        "colab": {
          "base_uri": "https://localhost:8080/"
        }
      },
      "outputs": [
        {
          "output_type": "stream",
          "name": "stdout",
          "text": [
            "Product value counts:\n",
            "product\n",
            "Widget A    3\n",
            "Widget B    2\n",
            "Widget C    2\n",
            "Name: count, dtype: int64\n",
            "\n",
            "Region value counts:\n",
            "region\n",
            "North    2\n",
            "South    2\n",
            "East     2\n",
            "West     1\n",
            "Name: count, dtype: int64\n"
          ]
        }
      ],
      "source": [
        "# Count occurrences of each value\n",
        "print(\"Product value counts:\")\n",
        "print(df['product'].value_counts())\n",
        "\n",
        "print(\"\\nRegion value counts:\")\n",
        "print(df['region'].value_counts())"
      ]
    },
    {
      "cell_type": "markdown",
      "id": "18",
      "metadata": {
        "id": "18"
      },
      "source": [
        "The `value_counts()` method is particularly useful for understanding the distribution of categorical data. It returns a Series with counts sorted in descending order by default."
      ]
    },
    {
      "cell_type": "markdown",
      "id": "19",
      "metadata": {
        "id": "19"
      },
      "source": [
        "### Controlling Data Types on Load"
      ]
    },
    {
      "cell_type": "markdown",
      "id": "20",
      "metadata": {
        "id": "20"
      },
      "source": [
        "Notice that the `date` column was loaded as an object (string) rather than an object type that represents dates. We can control how columns are interpreted using parameters to `read_csv()`."
      ]
    },
    {
      "cell_type": "code",
      "execution_count": 9,
      "id": "21",
      "metadata": {
        "id": "21",
        "outputId": "fec6fe4b-7fca-4b04-9129-35bee8ed9273",
        "colab": {
          "base_uri": "https://localhost:8080/"
        }
      },
      "outputs": [
        {
          "output_type": "stream",
          "name": "stdout",
          "text": [
            "<class 'pandas.core.frame.DataFrame'>\n",
            "RangeIndex: 7 entries, 0 to 6\n",
            "Data columns (total 5 columns):\n",
            " #   Column    Non-Null Count  Dtype         \n",
            "---  ------    --------------  -----         \n",
            " 0   date      7 non-null      datetime64[ns]\n",
            " 1   product   7 non-null      string        \n",
            " 2   quantity  6 non-null      float64       \n",
            " 3   price     6 non-null      float64       \n",
            " 4   region    7 non-null      string        \n",
            "dtypes: datetime64[ns](1), float64(2), string(2)\n",
            "memory usage: 412.0 bytes\n"
          ]
        }
      ],
      "source": [
        "# Specify data types and parse dates\n",
        "df = pd.read_csv('data/07a_sales_sample.csv',\n",
        "                 dtype={'product': 'string', 'region': 'string'},\n",
        "                 parse_dates=['date'])\n",
        "\n",
        "df.info()"
      ]
    },
    {
      "cell_type": "markdown",
      "id": "22",
      "metadata": {
        "id": "22"
      },
      "source": [
        "Now the `date` column is properly recognized as a datetime64 type, which enables time-based operations we'll explore later. For now we'll just look at the internal representation:\n",
        "\n",
        "djo: why is this a Timestamp object and not datetime? it there a more clearcut way to show this?"
      ]
    },
    {
      "cell_type": "code",
      "execution_count": 10,
      "id": "23",
      "metadata": {
        "id": "23",
        "outputId": "ecf4cfbe-c06a-422f-9001-101b7a5fac52",
        "colab": {
          "base_uri": "https://localhost:8080/"
        }
      },
      "outputs": [
        {
          "output_type": "execute_result",
          "data": {
            "text/plain": [
              "Timestamp('2024-01-15 00:00:00')"
            ]
          },
          "metadata": {},
          "execution_count": 10
        }
      ],
      "source": [
        "df.loc[0, 'date']"
      ]
    },
    {
      "cell_type": "markdown",
      "id": "24",
      "metadata": {
        "id": "24"
      },
      "source": [
        "### Handling Missing Values on Load"
      ]
    },
    {
      "cell_type": "markdown",
      "id": "25",
      "metadata": {
        "id": "25"
      },
      "source": [
        "You can specify additional values that should be treated as missing (beyond the defaults like empty strings and 'NA')."
      ]
    },
    {
      "cell_type": "code",
      "execution_count": 11,
      "id": "26",
      "metadata": {
        "id": "26",
        "outputId": "97573e73-987a-4f64-90d9-3ca117df1c8f",
        "colab": {
          "base_uri": "https://localhost:8080/"
        }
      },
      "outputs": [
        {
          "output_type": "stream",
          "name": "stdout",
          "text": [
            "      name  score    status\n",
            "0    Alice   95.0    active\n",
            "1      Bob    NaN  inactive\n",
            "2  Charlie   88.0    active\n",
            "3    Diana    NaN    active\n",
            "4      Eve   92.0       NaN\n",
            "\n",
            "Null value counts:\n",
            "name      0\n",
            "score     2\n",
            "status    1\n",
            "dtype: int64\n"
          ]
        }
      ],
      "source": [
        "# Create a file with various missing value representations\n",
        "messy_data = \"\"\"name,score,status\n",
        "Alice,95,active\n",
        "Bob,N/A,inactive\n",
        "Charlie,88,active\n",
        "Diana,unknown,active\n",
        "Eve,92,n/a\n",
        "\"\"\"\n",
        "\n",
        "with open('data/07a_messy_sample.csv', 'w') as f:\n",
        "    f.write(messy_data)\n",
        "\n",
        "# Load with custom missing value indicators\n",
        "df_messy = pd.read_csv('data/07a_messy_sample.csv',\n",
        "                       na_values=['N/A', 'unknown', 'n/a'])\n",
        "\n",
        "print(df_messy)\n",
        "print(\"\\nNull value counts:\")\n",
        "print(df_messy.isna().sum())"
      ]
    },
    {
      "cell_type": "markdown",
      "id": "27",
      "metadata": {
        "id": "27"
      },
      "source": [
        "### Setting the Index on Load"
      ]
    },
    {
      "cell_type": "markdown",
      "id": "28",
      "metadata": {
        "id": "28"
      },
      "source": [
        "Often, one column naturally serves as an index (like dates or IDs). You can set this during loading."
      ]
    },
    {
      "cell_type": "code",
      "execution_count": 12,
      "id": "29",
      "metadata": {
        "id": "29",
        "outputId": "d798c145-3d57-4d4e-f89d-73d94f9521bd",
        "colab": {
          "base_uri": "https://localhost:8080/",
          "height": 300
        }
      },
      "outputs": [
        {
          "output_type": "execute_result",
          "data": {
            "text/plain": [
              "             product  quantity  price region\n",
              "date                                        \n",
              "2024-01-15  Widget A     100.0   25.5  North\n",
              "2024-01-16  Widget B     150.0   30.0  South\n",
              "2024-01-17  Widget A     200.0   25.5   East\n",
              "2024-01-18  Widget C      75.0   45.0   West\n",
              "2024-01-19  Widget B     125.0   30.0  North\n",
              "2024-01-20  Widget A       NaN    NaN  South\n",
              "2024-01-21  Widget C      90.0   45.0   East"
            ],
            "text/html": [
              "\n",
              "  <div id=\"df-a8d8f8d2-9079-48b6-bafe-5c800fddffd1\" class=\"colab-df-container\">\n",
              "    <div>\n",
              "<style scoped>\n",
              "    .dataframe tbody tr th:only-of-type {\n",
              "        vertical-align: middle;\n",
              "    }\n",
              "\n",
              "    .dataframe tbody tr th {\n",
              "        vertical-align: top;\n",
              "    }\n",
              "\n",
              "    .dataframe thead th {\n",
              "        text-align: right;\n",
              "    }\n",
              "</style>\n",
              "<table border=\"1\" class=\"dataframe\">\n",
              "  <thead>\n",
              "    <tr style=\"text-align: right;\">\n",
              "      <th></th>\n",
              "      <th>product</th>\n",
              "      <th>quantity</th>\n",
              "      <th>price</th>\n",
              "      <th>region</th>\n",
              "    </tr>\n",
              "    <tr>\n",
              "      <th>date</th>\n",
              "      <th></th>\n",
              "      <th></th>\n",
              "      <th></th>\n",
              "      <th></th>\n",
              "    </tr>\n",
              "  </thead>\n",
              "  <tbody>\n",
              "    <tr>\n",
              "      <th>2024-01-15</th>\n",
              "      <td>Widget A</td>\n",
              "      <td>100.0</td>\n",
              "      <td>25.5</td>\n",
              "      <td>North</td>\n",
              "    </tr>\n",
              "    <tr>\n",
              "      <th>2024-01-16</th>\n",
              "      <td>Widget B</td>\n",
              "      <td>150.0</td>\n",
              "      <td>30.0</td>\n",
              "      <td>South</td>\n",
              "    </tr>\n",
              "    <tr>\n",
              "      <th>2024-01-17</th>\n",
              "      <td>Widget A</td>\n",
              "      <td>200.0</td>\n",
              "      <td>25.5</td>\n",
              "      <td>East</td>\n",
              "    </tr>\n",
              "    <tr>\n",
              "      <th>2024-01-18</th>\n",
              "      <td>Widget C</td>\n",
              "      <td>75.0</td>\n",
              "      <td>45.0</td>\n",
              "      <td>West</td>\n",
              "    </tr>\n",
              "    <tr>\n",
              "      <th>2024-01-19</th>\n",
              "      <td>Widget B</td>\n",
              "      <td>125.0</td>\n",
              "      <td>30.0</td>\n",
              "      <td>North</td>\n",
              "    </tr>\n",
              "    <tr>\n",
              "      <th>2024-01-20</th>\n",
              "      <td>Widget A</td>\n",
              "      <td>NaN</td>\n",
              "      <td>NaN</td>\n",
              "      <td>South</td>\n",
              "    </tr>\n",
              "    <tr>\n",
              "      <th>2024-01-21</th>\n",
              "      <td>Widget C</td>\n",
              "      <td>90.0</td>\n",
              "      <td>45.0</td>\n",
              "      <td>East</td>\n",
              "    </tr>\n",
              "  </tbody>\n",
              "</table>\n",
              "</div>\n",
              "    <div class=\"colab-df-buttons\">\n",
              "\n",
              "  <div class=\"colab-df-container\">\n",
              "    <button class=\"colab-df-convert\" onclick=\"convertToInteractive('df-a8d8f8d2-9079-48b6-bafe-5c800fddffd1')\"\n",
              "            title=\"Convert this dataframe to an interactive table.\"\n",
              "            style=\"display:none;\">\n",
              "\n",
              "  <svg xmlns=\"http://www.w3.org/2000/svg\" height=\"24px\" viewBox=\"0 -960 960 960\">\n",
              "    <path d=\"M120-120v-720h720v720H120Zm60-500h600v-160H180v160Zm220 220h160v-160H400v160Zm0 220h160v-160H400v160ZM180-400h160v-160H180v160Zm440 0h160v-160H620v160ZM180-180h160v-160H180v160Zm440 0h160v-160H620v160Z\"/>\n",
              "  </svg>\n",
              "    </button>\n",
              "\n",
              "  <style>\n",
              "    .colab-df-container {\n",
              "      display:flex;\n",
              "      gap: 12px;\n",
              "    }\n",
              "\n",
              "    .colab-df-convert {\n",
              "      background-color: #E8F0FE;\n",
              "      border: none;\n",
              "      border-radius: 50%;\n",
              "      cursor: pointer;\n",
              "      display: none;\n",
              "      fill: #1967D2;\n",
              "      height: 32px;\n",
              "      padding: 0 0 0 0;\n",
              "      width: 32px;\n",
              "    }\n",
              "\n",
              "    .colab-df-convert:hover {\n",
              "      background-color: #E2EBFA;\n",
              "      box-shadow: 0px 1px 2px rgba(60, 64, 67, 0.3), 0px 1px 3px 1px rgba(60, 64, 67, 0.15);\n",
              "      fill: #174EA6;\n",
              "    }\n",
              "\n",
              "    .colab-df-buttons div {\n",
              "      margin-bottom: 4px;\n",
              "    }\n",
              "\n",
              "    [theme=dark] .colab-df-convert {\n",
              "      background-color: #3B4455;\n",
              "      fill: #D2E3FC;\n",
              "    }\n",
              "\n",
              "    [theme=dark] .colab-df-convert:hover {\n",
              "      background-color: #434B5C;\n",
              "      box-shadow: 0px 1px 3px 1px rgba(0, 0, 0, 0.15);\n",
              "      filter: drop-shadow(0px 1px 2px rgba(0, 0, 0, 0.3));\n",
              "      fill: #FFFFFF;\n",
              "    }\n",
              "  </style>\n",
              "\n",
              "    <script>\n",
              "      const buttonEl =\n",
              "        document.querySelector('#df-a8d8f8d2-9079-48b6-bafe-5c800fddffd1 button.colab-df-convert');\n",
              "      buttonEl.style.display =\n",
              "        google.colab.kernel.accessAllowed ? 'block' : 'none';\n",
              "\n",
              "      async function convertToInteractive(key) {\n",
              "        const element = document.querySelector('#df-a8d8f8d2-9079-48b6-bafe-5c800fddffd1');\n",
              "        const dataTable =\n",
              "          await google.colab.kernel.invokeFunction('convertToInteractive',\n",
              "                                                    [key], {});\n",
              "        if (!dataTable) return;\n",
              "\n",
              "        const docLinkHtml = 'Like what you see? Visit the ' +\n",
              "          '<a target=\"_blank\" href=https://colab.research.google.com/notebooks/data_table.ipynb>data table notebook</a>'\n",
              "          + ' to learn more about interactive tables.';\n",
              "        element.innerHTML = '';\n",
              "        dataTable['output_type'] = 'display_data';\n",
              "        await google.colab.output.renderOutput(dataTable, element);\n",
              "        const docLink = document.createElement('div');\n",
              "        docLink.innerHTML = docLinkHtml;\n",
              "        element.appendChild(docLink);\n",
              "      }\n",
              "    </script>\n",
              "  </div>\n",
              "\n",
              "\n",
              "    <div id=\"df-fdc7ca2b-cbf4-4e67-babe-ae5a951e6f8d\">\n",
              "      <button class=\"colab-df-quickchart\" onclick=\"quickchart('df-fdc7ca2b-cbf4-4e67-babe-ae5a951e6f8d')\"\n",
              "                title=\"Suggest charts\"\n",
              "                style=\"display:none;\">\n",
              "\n",
              "<svg xmlns=\"http://www.w3.org/2000/svg\" height=\"24px\"viewBox=\"0 0 24 24\"\n",
              "     width=\"24px\">\n",
              "    <g>\n",
              "        <path d=\"M19 3H5c-1.1 0-2 .9-2 2v14c0 1.1.9 2 2 2h14c1.1 0 2-.9 2-2V5c0-1.1-.9-2-2-2zM9 17H7v-7h2v7zm4 0h-2V7h2v10zm4 0h-2v-4h2v4z\"/>\n",
              "    </g>\n",
              "</svg>\n",
              "      </button>\n",
              "\n",
              "<style>\n",
              "  .colab-df-quickchart {\n",
              "      --bg-color: #E8F0FE;\n",
              "      --fill-color: #1967D2;\n",
              "      --hover-bg-color: #E2EBFA;\n",
              "      --hover-fill-color: #174EA6;\n",
              "      --disabled-fill-color: #AAA;\n",
              "      --disabled-bg-color: #DDD;\n",
              "  }\n",
              "\n",
              "  [theme=dark] .colab-df-quickchart {\n",
              "      --bg-color: #3B4455;\n",
              "      --fill-color: #D2E3FC;\n",
              "      --hover-bg-color: #434B5C;\n",
              "      --hover-fill-color: #FFFFFF;\n",
              "      --disabled-bg-color: #3B4455;\n",
              "      --disabled-fill-color: #666;\n",
              "  }\n",
              "\n",
              "  .colab-df-quickchart {\n",
              "    background-color: var(--bg-color);\n",
              "    border: none;\n",
              "    border-radius: 50%;\n",
              "    cursor: pointer;\n",
              "    display: none;\n",
              "    fill: var(--fill-color);\n",
              "    height: 32px;\n",
              "    padding: 0;\n",
              "    width: 32px;\n",
              "  }\n",
              "\n",
              "  .colab-df-quickchart:hover {\n",
              "    background-color: var(--hover-bg-color);\n",
              "    box-shadow: 0 1px 2px rgba(60, 64, 67, 0.3), 0 1px 3px 1px rgba(60, 64, 67, 0.15);\n",
              "    fill: var(--button-hover-fill-color);\n",
              "  }\n",
              "\n",
              "  .colab-df-quickchart-complete:disabled,\n",
              "  .colab-df-quickchart-complete:disabled:hover {\n",
              "    background-color: var(--disabled-bg-color);\n",
              "    fill: var(--disabled-fill-color);\n",
              "    box-shadow: none;\n",
              "  }\n",
              "\n",
              "  .colab-df-spinner {\n",
              "    border: 2px solid var(--fill-color);\n",
              "    border-color: transparent;\n",
              "    border-bottom-color: var(--fill-color);\n",
              "    animation:\n",
              "      spin 1s steps(1) infinite;\n",
              "  }\n",
              "\n",
              "  @keyframes spin {\n",
              "    0% {\n",
              "      border-color: transparent;\n",
              "      border-bottom-color: var(--fill-color);\n",
              "      border-left-color: var(--fill-color);\n",
              "    }\n",
              "    20% {\n",
              "      border-color: transparent;\n",
              "      border-left-color: var(--fill-color);\n",
              "      border-top-color: var(--fill-color);\n",
              "    }\n",
              "    30% {\n",
              "      border-color: transparent;\n",
              "      border-left-color: var(--fill-color);\n",
              "      border-top-color: var(--fill-color);\n",
              "      border-right-color: var(--fill-color);\n",
              "    }\n",
              "    40% {\n",
              "      border-color: transparent;\n",
              "      border-right-color: var(--fill-color);\n",
              "      border-top-color: var(--fill-color);\n",
              "    }\n",
              "    60% {\n",
              "      border-color: transparent;\n",
              "      border-right-color: var(--fill-color);\n",
              "    }\n",
              "    80% {\n",
              "      border-color: transparent;\n",
              "      border-right-color: var(--fill-color);\n",
              "      border-bottom-color: var(--fill-color);\n",
              "    }\n",
              "    90% {\n",
              "      border-color: transparent;\n",
              "      border-bottom-color: var(--fill-color);\n",
              "    }\n",
              "  }\n",
              "</style>\n",
              "\n",
              "      <script>\n",
              "        async function quickchart(key) {\n",
              "          const quickchartButtonEl =\n",
              "            document.querySelector('#' + key + ' button');\n",
              "          quickchartButtonEl.disabled = true;  // To prevent multiple clicks.\n",
              "          quickchartButtonEl.classList.add('colab-df-spinner');\n",
              "          try {\n",
              "            const charts = await google.colab.kernel.invokeFunction(\n",
              "                'suggestCharts', [key], {});\n",
              "          } catch (error) {\n",
              "            console.error('Error during call to suggestCharts:', error);\n",
              "          }\n",
              "          quickchartButtonEl.classList.remove('colab-df-spinner');\n",
              "          quickchartButtonEl.classList.add('colab-df-quickchart-complete');\n",
              "        }\n",
              "        (() => {\n",
              "          let quickchartButtonEl =\n",
              "            document.querySelector('#df-fdc7ca2b-cbf4-4e67-babe-ae5a951e6f8d button');\n",
              "          quickchartButtonEl.style.display =\n",
              "            google.colab.kernel.accessAllowed ? 'block' : 'none';\n",
              "        })();\n",
              "      </script>\n",
              "    </div>\n",
              "\n",
              "  <div id=\"id_a9b35b72-7630-43e5-94d8-5fb8c09951d5\">\n",
              "    <style>\n",
              "      .colab-df-generate {\n",
              "        background-color: #E8F0FE;\n",
              "        border: none;\n",
              "        border-radius: 50%;\n",
              "        cursor: pointer;\n",
              "        display: none;\n",
              "        fill: #1967D2;\n",
              "        height: 32px;\n",
              "        padding: 0 0 0 0;\n",
              "        width: 32px;\n",
              "      }\n",
              "\n",
              "      .colab-df-generate:hover {\n",
              "        background-color: #E2EBFA;\n",
              "        box-shadow: 0px 1px 2px rgba(60, 64, 67, 0.3), 0px 1px 3px 1px rgba(60, 64, 67, 0.15);\n",
              "        fill: #174EA6;\n",
              "      }\n",
              "\n",
              "      [theme=dark] .colab-df-generate {\n",
              "        background-color: #3B4455;\n",
              "        fill: #D2E3FC;\n",
              "      }\n",
              "\n",
              "      [theme=dark] .colab-df-generate:hover {\n",
              "        background-color: #434B5C;\n",
              "        box-shadow: 0px 1px 3px 1px rgba(0, 0, 0, 0.15);\n",
              "        filter: drop-shadow(0px 1px 2px rgba(0, 0, 0, 0.3));\n",
              "        fill: #FFFFFF;\n",
              "      }\n",
              "    </style>\n",
              "    <button class=\"colab-df-generate\" onclick=\"generateWithVariable('df_indexed')\"\n",
              "            title=\"Generate code using this dataframe.\"\n",
              "            style=\"display:none;\">\n",
              "\n",
              "  <svg xmlns=\"http://www.w3.org/2000/svg\" height=\"24px\"viewBox=\"0 0 24 24\"\n",
              "       width=\"24px\">\n",
              "    <path d=\"M7,19H8.4L18.45,9,17,7.55,7,17.6ZM5,21V16.75L18.45,3.32a2,2,0,0,1,2.83,0l1.4,1.43a1.91,1.91,0,0,1,.58,1.4,1.91,1.91,0,0,1-.58,1.4L9.25,21ZM18.45,9,17,7.55Zm-12,3A5.31,5.31,0,0,0,4.9,8.1,5.31,5.31,0,0,0,1,6.5,5.31,5.31,0,0,0,4.9,4.9,5.31,5.31,0,0,0,6.5,1,5.31,5.31,0,0,0,8.1,4.9,5.31,5.31,0,0,0,12,6.5,5.46,5.46,0,0,0,6.5,12Z\"/>\n",
              "  </svg>\n",
              "    </button>\n",
              "    <script>\n",
              "      (() => {\n",
              "      const buttonEl =\n",
              "        document.querySelector('#id_a9b35b72-7630-43e5-94d8-5fb8c09951d5 button.colab-df-generate');\n",
              "      buttonEl.style.display =\n",
              "        google.colab.kernel.accessAllowed ? 'block' : 'none';\n",
              "\n",
              "      buttonEl.onclick = () => {\n",
              "        google.colab.notebook.generateWithVariable('df_indexed');\n",
              "      }\n",
              "      })();\n",
              "    </script>\n",
              "  </div>\n",
              "\n",
              "    </div>\n",
              "  </div>\n"
            ],
            "application/vnd.google.colaboratory.intrinsic+json": {
              "type": "dataframe",
              "variable_name": "df_indexed",
              "summary": "{\n  \"name\": \"df_indexed\",\n  \"rows\": 7,\n  \"fields\": [\n    {\n      \"column\": \"date\",\n      \"properties\": {\n        \"dtype\": \"date\",\n        \"min\": \"2024-01-15 00:00:00\",\n        \"max\": \"2024-01-21 00:00:00\",\n        \"num_unique_values\": 7,\n        \"samples\": [\n          \"2024-01-15 00:00:00\",\n          \"2024-01-16 00:00:00\",\n          \"2024-01-20 00:00:00\"\n        ],\n        \"semantic_type\": \"\",\n        \"description\": \"\"\n      }\n    },\n    {\n      \"column\": \"product\",\n      \"properties\": {\n        \"dtype\": \"category\",\n        \"num_unique_values\": 3,\n        \"samples\": [\n          \"Widget A\",\n          \"Widget B\",\n          \"Widget C\"\n        ],\n        \"semantic_type\": \"\",\n        \"description\": \"\"\n      }\n    },\n    {\n      \"column\": \"quantity\",\n      \"properties\": {\n        \"dtype\": \"number\",\n        \"std\": 46.00724580614087,\n        \"min\": 75.0,\n        \"max\": 200.0,\n        \"num_unique_values\": 6,\n        \"samples\": [\n          100.0,\n          150.0,\n          90.0\n        ],\n        \"semantic_type\": \"\",\n        \"description\": \"\"\n      }\n    },\n    {\n      \"column\": \"price\",\n      \"properties\": {\n        \"dtype\": \"number\",\n        \"std\": 9.132360045464699,\n        \"min\": 25.5,\n        \"max\": 45.0,\n        \"num_unique_values\": 3,\n        \"samples\": [\n          25.5,\n          30.0,\n          45.0\n        ],\n        \"semantic_type\": \"\",\n        \"description\": \"\"\n      }\n    },\n    {\n      \"column\": \"region\",\n      \"properties\": {\n        \"dtype\": \"string\",\n        \"num_unique_values\": 4,\n        \"samples\": [\n          \"South\",\n          \"West\",\n          \"North\"\n        ],\n        \"semantic_type\": \"\",\n        \"description\": \"\"\n      }\n    }\n  ]\n}"
            }
          },
          "metadata": {},
          "execution_count": 12
        }
      ],
      "source": [
        "# Use date as the index\n",
        "df_indexed = pd.read_csv('data/07a_sales_sample.csv',\n",
        "                         parse_dates=['date'],\n",
        "                         index_col='date')\n",
        "\n",
        "df_indexed"
      ]
    },
    {
      "cell_type": "markdown",
      "id": "30",
      "metadata": {
        "id": "30"
      },
      "source": [
        "This can be more efficient than loading and then setting the index separately, especially with large files."
      ]
    },
    {
      "cell_type": "markdown",
      "id": "31",
      "metadata": {
        "id": "31"
      },
      "source": [
        "### Memory Diagnostics for Larger Datasets"
      ]
    },
    {
      "cell_type": "markdown",
      "id": "32",
      "metadata": {
        "id": "32"
      },
      "source": [
        "When working with larger datasets, memory usage becomes important. The `memory_usage()` method helps identify which columns consume the most memory."
      ]
    },
    {
      "cell_type": "code",
      "execution_count": 13,
      "id": "33",
      "metadata": {
        "id": "33",
        "outputId": "61397493-beff-49c4-adce-720fa671ffdb",
        "colab": {
          "base_uri": "https://localhost:8080/"
        }
      },
      "outputs": [
        {
          "output_type": "stream",
          "name": "stdout",
          "text": [
            "Memory usage by column:\n",
            "Index             132\n",
            "id              80000\n",
            "value           80000\n",
            "category       500000\n",
            "date            80000\n",
            "description    578890\n",
            "dtype: int64\n",
            "\n",
            "Total memory usage:\n",
            "1.26 MB\n"
          ]
        }
      ],
      "source": [
        "# Create a larger sample dataset\n",
        "np.random.seed(42)\n",
        "large_df = pd.DataFrame({\n",
        "    'id': range(10000),\n",
        "    'value': np.random.randn(10000),\n",
        "    'category': np.random.choice(['A', 'B', 'C', 'D'], 10000),\n",
        "    'date': pd.date_range('2020-01-01', periods=10000, freq='h'),\n",
        "    'description': ['Item ' + str(i) for i in range(10000)]\n",
        "})\n",
        "\n",
        "# Check memory usage by column\n",
        "print(\"Memory usage by column:\")\n",
        "print(large_df.memory_usage(deep=True))\n",
        "\n",
        "print(\"\\nTotal memory usage:\")\n",
        "print(f\"{large_df.memory_usage(deep=True).sum() / 1024**2:.2f} MB\")"
      ]
    },
    {
      "cell_type": "markdown",
      "id": "34",
      "metadata": {
        "id": "34"
      },
      "source": [
        "The `deep=True` parameter includes the actual memory used by object types like strings, which can be significant. Strings often represent categorical data, for which Pandas has a specific data type. By converting the `category` column to a categorical type we save memory *and* enable valuable functionality for that type (explored later)."
      ]
    },
    {
      "cell_type": "code",
      "execution_count": null,
      "id": "35",
      "metadata": {
        "id": "35"
      },
      "outputs": [],
      "source": [
        "# Optimize by converting category column to categorical dtype\n",
        "large_df['category'] = large_df['category'].astype('category')\n",
        "\n",
        "print(\"Memory usage after optimization:\")\n",
        "print(large_df.memory_usage(deep=True))\n",
        "\n",
        "print(\"\\nTotal memory usage:\")\n",
        "print(f\"{large_df.memory_usage(deep=True).sum() / 1024**2:.2f} MB\")"
      ]
    },
    {
      "cell_type": "markdown",
      "id": "36",
      "metadata": {
        "id": "36"
      },
      "source": [
        "Converting columns with repeated values to the `category` dtype can dramatically reduce memory usage."
      ]
    },
    {
      "cell_type": "markdown",
      "id": "37",
      "metadata": {
        "id": "37"
      },
      "source": [
        "### Writing Data to CSV"
      ]
    },
    {
      "cell_type": "markdown",
      "id": "38",
      "metadata": {
        "id": "38"
      },
      "source": [
        "After processing data, you'll often need to save the results. The `to_csv()` method handles this."
      ]
    },
    {
      "cell_type": "code",
      "execution_count": null,
      "id": "39",
      "metadata": {
        "id": "39"
      },
      "outputs": [],
      "source": [
        "# Save to CSV (default: includes index)\n",
        "df.to_csv('data/07a_sales_processed.csv')\n",
        "\n",
        "# Verify what was written\n",
        "with open('data/07a_sales_processed.csv', 'r') as f:\n",
        "    content = f.read()\n",
        "    print(content[:200], '...')  # First 200 characters"
      ]
    },
    {
      "cell_type": "markdown",
      "id": "40",
      "metadata": {
        "id": "40"
      },
      "source": [
        "Note: The leading comma in the header is expected - it's an empty column header for the index column."
      ]
    },
    {
      "cell_type": "code",
      "execution_count": null,
      "id": "41",
      "metadata": {
        "id": "41"
      },
      "outputs": [],
      "source": [
        "# Save without index (common for data without meaningful index)\n",
        "df.to_csv('data/07a_sales_no_index.csv', index=False)\n",
        "\n",
        "with open('data/07a_sales_no_index.csv', 'r') as f:\n",
        "    print(f.read())"
      ]
    },
    {
      "cell_type": "code",
      "execution_count": null,
      "id": "42",
      "metadata": {
        "id": "42"
      },
      "outputs": [],
      "source": [
        "# Save only specific columns\n",
        "df.to_csv('data/07a_sales_subset.csv',\n",
        "          columns=['date', 'product', 'quantity'],\n",
        "          index=False)\n",
        "\n",
        "# Verify\n",
        "pd.read_csv('data/07a_sales_subset.csv')"
      ]
    },
    {
      "cell_type": "markdown",
      "id": "43",
      "metadata": {
        "id": "43"
      },
      "source": [
        "Pandas' `read_csv` has many other options..."
      ]
    },
    {
      "cell_type": "code",
      "execution_count": null,
      "id": "44",
      "metadata": {
        "id": "44"
      },
      "outputs": [],
      "source": [
        "help(pd.read_csv)"
      ]
    },
    {
      "cell_type": "markdown",
      "id": "45",
      "metadata": {
        "id": "45"
      },
      "source": [
        "### Other File Formats\n",
        "\n",
        "Pandas supports many file formats beyond CSV. Excel files are particularly common in business settings."
      ]
    },
    {
      "cell_type": "code",
      "execution_count": null,
      "id": "46",
      "metadata": {
        "id": "46"
      },
      "outputs": [],
      "source": [
        "# Write to Excel (requires openpyxl or xlsxwriter package)\n",
        "try:\n",
        "    df.to_excel('data/07a_sales.xlsx', sheet_name='Sales', index=False)\n",
        "    print(\"Excel file written successfully\")\n",
        "\n",
        "    # Read it back\n",
        "    df_excel = pd.read_excel('data/07a_sales.xlsx', sheet_name='Sales')\n",
        "    print(\"\\nLoaded from Excel:\")\n",
        "    print(df_excel.head())\n",
        "\n",
        "except ImportError:\n",
        "    print(\"Excel support requires: pip install openpyxl\")"
      ]
    },
    {
      "cell_type": "markdown",
      "id": "47",
      "metadata": {
        "id": "47"
      },
      "source": [
        "For large datasets, CSV is generally faster and more reliable than Excel.\n",
        "\n",
        "**Note:** Excel operations in Pandas require additional packages. Though Pandas relies on `openpyxl` for this, it is not identified as a default dependency, so is not added by conda during `conda install pandas`. Use `conda install openpyxl` in your `insy6500` environment if required. You do not need to import `openpyxl` - that is handled by Pandas."
      ]
    },
    {
      "cell_type": "markdown",
      "id": "48",
      "metadata": {
        "id": "48"
      },
      "source": [
        "## Index Operations"
      ]
    },
    {
      "cell_type": "markdown",
      "id": "49",
      "metadata": {
        "id": "49"
      },
      "source": [
        "The index is more than just row numbers—it's a powerful tool for data organization and access. Understanding when and how to set an index is key to efficient Pandas use."
      ]
    },
    {
      "cell_type": "markdown",
      "id": "50",
      "metadata": {
        "id": "50"
      },
      "source": [
        "### Setting an Index"
      ]
    },
    {
      "cell_type": "markdown",
      "id": "51",
      "metadata": {
        "id": "51"
      },
      "source": [
        "The `set_index()` method converts a column into the index."
      ]
    },
    {
      "cell_type": "code",
      "execution_count": null,
      "id": "52",
      "metadata": {
        "id": "52"
      },
      "outputs": [],
      "source": [
        "# Start with default numeric index\n",
        "print(\"Original DataFrame:\")\n",
        "print(df.head())\n",
        "print(\"\\nIndex:\", df.index)"
      ]
    },
    {
      "cell_type": "code",
      "execution_count": null,
      "id": "53",
      "metadata": {
        "id": "53"
      },
      "outputs": [],
      "source": [
        "# Set date as index\n",
        "df_dated = df.set_index('date')\n",
        "print(df_dated)\n",
        "print(\"\\nIndex:\", df_dated.index)"
      ]
    },
    {
      "cell_type": "markdown",
      "id": "54",
      "metadata": {
        "id": "54"
      },
      "source": [
        "Remember that most Pandas methods return a new DataFrame rather than modifying the original. To update the original, either reassign it or use `inplace=True`."
      ]
    },
    {
      "cell_type": "code",
      "execution_count": null,
      "id": "55",
      "metadata": {
        "id": "55"
      },
      "outputs": [],
      "source": [
        "# Option 1: Reassign\n",
        "df = df.set_index('date')\n",
        "\n",
        "# Option 2: In-place (equivalent to above)\n",
        "# df.set_index('date', inplace=True)"
      ]
    },
    {
      "cell_type": "markdown",
      "id": "56",
      "metadata": {
        "id": "56"
      },
      "source": [
        "### When to Use an Index"
      ]
    },
    {
      "cell_type": "markdown",
      "id": "57",
      "metadata": {
        "id": "57"
      },
      "source": [
        "Setting a meaningful index is beneficial when:\n",
        "\n",
        "1. **Time series data**: Date/time indexes enable powerful time-based operations\n",
        "2. **Unique identifiers**: Customer IDs, product codes, etc.\n",
        "3. **Frequent lookups**: If you often access rows by a specific value\n",
        "4. **Merging data**: Indexes are used in join operations\n",
        "\n",
        "Keep the default numeric index when:\n",
        "- No column naturally serves as an identifier\n",
        "- You primarily work with all rows at once\n",
        "- The data structure may change frequently"
      ]
    },
    {
      "cell_type": "markdown",
      "id": "58",
      "metadata": {
        "id": "58"
      },
      "source": [
        "### Resetting the Index"
      ]
    },
    {
      "cell_type": "markdown",
      "id": "59",
      "metadata": {
        "id": "59"
      },
      "source": [
        "The `reset_index()` method converts the index back into a regular column and creates a new default numeric index."
      ]
    },
    {
      "cell_type": "code",
      "execution_count": null,
      "id": "60",
      "metadata": {
        "id": "60"
      },
      "outputs": [],
      "source": [
        "# Current state: date is the index\n",
        "print(\"Before reset:\")\n",
        "print(df.head())\n",
        "\n",
        "# Reset to default numeric index\n",
        "df_reset = df.reset_index()\n",
        "print(\"\\nAfter reset:\")\n",
        "print(df_reset.head())"
      ]
    },
    {
      "cell_type": "markdown",
      "id": "61",
      "metadata": {
        "id": "61"
      },
      "source": [
        "### The `drop` Parameter\n",
        "\n",
        "When resetting an index, you can choose whether to keep the old index as a column or discard it."
      ]
    },
    {
      "cell_type": "code",
      "execution_count": null,
      "id": "62",
      "metadata": {
        "id": "62"
      },
      "outputs": [],
      "source": [
        "# Reset and drop the old index\n",
        "df_dropped = df.reset_index(drop=True)\n",
        "print(\"After reset with drop=True:\")\n",
        "print(df_dropped.head())"
      ]
    },
    {
      "cell_type": "markdown",
      "id": "63",
      "metadata": {
        "id": "63"
      },
      "source": [
        "This is useful when the index was created for temporary operations and isn't needed in the final result."
      ]
    },
    {
      "cell_type": "markdown",
      "id": "64",
      "metadata": {
        "id": "64"
      },
      "source": [
        "### Common Index Patterns"
      ]
    },
    {
      "cell_type": "markdown",
      "id": "65",
      "metadata": {
        "id": "65"
      },
      "source": [
        "Here are some typical scenarios where index operations are useful."
      ]
    },
    {
      "cell_type": "code",
      "execution_count": null,
      "id": "66",
      "metadata": {
        "id": "66"
      },
      "outputs": [],
      "source": [
        "# Pattern 1: Fixing data structure after aggregation\n",
        "# groupby() splits data into groups and applies aggregation functions\n",
        "# Here we group by product and sum the quantities\n",
        "# The grouping column (product) automatically becomes the index\n",
        "grouped = df.groupby('product')['quantity'].sum()\n",
        "print(\"Grouped result (product becomes index):\")\n",
        "print(grouped)\n",
        "\n",
        "# Reset to make product a column again - useful for further analysis or output\n",
        "grouped_df = grouped.reset_index()\n",
        "print(\"\\nAfter reset (product is now a column):\")\n",
        "print(grouped_df)"
      ]
    },
    {
      "cell_type": "code",
      "execution_count": null,
      "id": "67",
      "metadata": {
        "id": "67"
      },
      "outputs": [],
      "source": [
        "# Pattern 2: Preparing for time series analysis\n",
        "# Create sample time series data\n",
        "ts_data = pd.DataFrame({\n",
        "    'date': pd.date_range('2024-01-01', periods=7, freq='D'),\n",
        "    'sales': [100, 120, 115, 130, 125, 140, 135],\n",
        "    'costs': [70, 85, 80, 90, 88, 95, 92]\n",
        "})\n",
        "\n",
        "print(\"Before setting date index:\")\n",
        "print(ts_data)\n",
        "\n",
        "# Set date as index for time series operations\n",
        "ts_data = ts_data.set_index('date')\n",
        "print(\"\\nAfter setting date index:\")\n",
        "print(ts_data)\n",
        "\n",
        "# Now we can use date-based selection\n",
        "print(\"\\nSales for first 3 days:\")\n",
        "print(ts_data.loc['2024-01-01':'2024-01-03'])"
      ]
    },
    {
      "cell_type": "markdown",
      "id": "68",
      "metadata": {
        "id": "68"
      },
      "source": [
        "**Note on date slicing:** The `.loc['2024-01-01':'2024-01-03']` syntax works here because `date` is the index *and* is a `datetime64` type. If `date` were just a regular column (not the index), you'd need to use boolean indexing instead: `ts_data[ts_data['date'].between('2024-01-01', '2024-01-03')]`. The datetime index enables this convenient slicing syntax."
      ]
    },
    {
      "cell_type": "markdown",
      "id": "69",
      "metadata": {
        "id": "69"
      },
      "source": [
        "## Boolean Indexing and Queries\n",
        "\n",
        "We've seen basic boolean indexing before. Now we'll explore more complex filtering patterns that are essential for real data analysis."
      ]
    },
    {
      "cell_type": "code",
      "execution_count": null,
      "id": "70",
      "metadata": {
        "id": "70"
      },
      "outputs": [],
      "source": [
        "# Reset our working DataFrame for these examples\n",
        "df = pd.read_csv('data/07a_sales_sample.csv', parse_dates=['date'])\n",
        "print(df)"
      ]
    },
    {
      "cell_type": "markdown",
      "id": "71",
      "metadata": {
        "id": "71"
      },
      "source": [
        "### Multiple Conditions with Boolean Indexing\n",
        "\n",
        "Complex filters require combining conditions with `&` (and) or `|` (or). Each condition must be wrapped in parentheses."
      ]
    },
    {
      "cell_type": "code",
      "execution_count": null,
      "id": "72",
      "metadata": {
        "id": "72"
      },
      "outputs": [],
      "source": [
        "# Find high-value sales (quantity > 100 AND price > 30)\n",
        "high_value = df[(df['quantity'] > 100) & (df['price'] > 30)]\n",
        "print(\"High value sales:\")\n",
        "print(high_value)"
      ]
    },
    {
      "cell_type": "markdown",
      "id": "73",
      "metadata": {
        "id": "73"
      },
      "source": [
        "The empty result is expected - our small sample dataset doesn't have any sales with *both* quantity > 100 *and* price > 30. Widget B has the right price (30.0) but we need strictly greater than 30. This illustrates how multiple conditions can filter data down to nothing if they're too restrictive. Let's try a more lenient version:"
      ]
    },
    {
      "cell_type": "code",
      "execution_count": null,
      "id": "74",
      "metadata": {
        "id": "74"
      },
      "outputs": [],
      "source": [
        "# More useful: Find high-value sales (quantity > 100 AND price >= 30)\n",
        "high_value = df[(df['quantity'] > 100) & (df['price'] >= 30)]\n",
        "print(\"High value sales (quantity > 100 AND price >= 30):\")\n",
        "print(high_value)\n",
        "\n",
        "# OR conditions: Find Widget A OR Widget C sales\n",
        "widget_ac = df[(df['product'] == 'Widget A') | (df['product'] == 'Widget C')]\n",
        "print(\"\\nWidget A or C sales:\")\n",
        "print(widget_ac)"
      ]
    },
    {
      "cell_type": "code",
      "execution_count": null,
      "id": "75",
      "metadata": {
        "id": "75"
      },
      "outputs": [],
      "source": [
        "# More complex: Widget A in North OR South regions with quantity > 100\n",
        "complex_filter = df[\n",
        "    (df['product'] == 'Widget A') &\n",
        "    (df['region'].isin(['North', 'South'])) &\n",
        "    (df['quantity'] > 100)\n",
        "]\n",
        "print(\"Complex filter result:\")\n",
        "print(complex_filter)"
      ]
    },
    {
      "cell_type": "markdown",
      "id": "76",
      "metadata": {
        "id": "76"
      },
      "source": [
        "Again, an empty result - a good lesson about **over-specification**. We're asking for Widget A, in North or South regions, with quantity > 100. Our Widget A sales are:\n",
        "- 100 units in North (fails the quantity test)\n",
        "- 200 units in East (fails the region test)\n",
        "- NaN in South (fails the quantity test)\n",
        "\n",
        "When debugging empty filter results, relax constraints one at a time to see which condition is eliminating your data."
      ]
    },
    {
      "cell_type": "markdown",
      "id": "77",
      "metadata": {
        "id": "77"
      },
      "source": [
        "**Important:** Use `&` and `|` for element-wise boolean operations in Pandas, not `and` and `or` (which are for Python boolean values only)."
      ]
    },
    {
      "cell_type": "markdown",
      "id": "78",
      "metadata": {
        "id": "78"
      },
      "source": [
        "### The `isin()` Method"
      ]
    },
    {
      "cell_type": "markdown",
      "id": "79",
      "metadata": {
        "id": "79"
      },
      "source": [
        "As demonstrated above, when checking if values are in a list of options, `isin()` is cleaner than multiple `|` conditions."
      ]
    },
    {
      "cell_type": "code",
      "execution_count": null,
      "id": "80",
      "metadata": {
        "id": "80"
      },
      "outputs": [],
      "source": [
        "# Instead of: (df['region'] == 'North') | (df['region'] == 'South') | (df['region'] == 'East')\n",
        "# Use isin:\n",
        "selected_regions = df[df['region'].isin(['North', 'South', 'East'])]\n",
        "print(\"Sales in North, South, or East:\")\n",
        "print(selected_regions)"
      ]
    },
    {
      "cell_type": "code",
      "execution_count": null,
      "id": "81",
      "metadata": {
        "id": "81"
      },
      "outputs": [],
      "source": [
        "# Can also use negation with ~\n",
        "not_west = df[~df['region'].isin(['West'])]\n",
        "print(\"\\nSales NOT in West:\")\n",
        "print(not_west)"
      ]
    },
    {
      "cell_type": "markdown",
      "id": "82",
      "metadata": {
        "id": "82"
      },
      "source": [
        "### The `query()` Method"
      ]
    },
    {
      "cell_type": "markdown",
      "id": "83",
      "metadata": {
        "id": "83"
      },
      "source": [
        "For complex filters, `query()` provides a more readable alternative to boolean indexing. It accepts a string expression and evaluates it against the DataFrame.\n",
        "\n",
        "The string is interpreted as a Python expression where column names become variables. So instead of writing `df[(df['quantity'] > 100)]`, you can write `df.query('quantity > 100')`. This is especially helpful for complex multi-condition filters that would otherwise require many parentheses and ampersands."
      ]
    },
    {
      "cell_type": "code",
      "execution_count": null,
      "id": "84",
      "metadata": {
        "id": "84"
      },
      "outputs": [],
      "source": [
        "# Boolean indexing version\n",
        "result1 = df[(df['quantity'] > 100) & (df['price'] < 30)]\n",
        "\n",
        "# query() version - more readable!\n",
        "result2 = df.query('quantity > 100 and price < 30')\n",
        "\n",
        "print(\"Using query():\")\n",
        "print(result2)"
      ]
    },
    {
      "cell_type": "code",
      "execution_count": null,
      "id": "85",
      "metadata": {
        "id": "85"
      },
      "outputs": [],
      "source": [
        "# query() with string matching\n",
        "widget_b_sales = df.query('product == \"Widget B\"')\n",
        "print(\"Widget B sales:\")\n",
        "print(widget_b_sales)"
      ]
    },
    {
      "cell_type": "markdown",
      "id": "86",
      "metadata": {
        "id": "86"
      },
      "source": [
        "**Using variables in queries:** The `@` symbol tells `query()` to look for a variable in the surrounding Python scope rather than treating it as a column name. Without `@`, `query('quantity >= min_quantity')` would look for a column called `min_quantity` in the DataFrame (and fail). With `@min_quantity`, it uses the Python variable's value."
      ]
    },
    {
      "cell_type": "code",
      "execution_count": null,
      "id": "87",
      "metadata": {
        "id": "87"
      },
      "outputs": [],
      "source": [
        "# query() can reference variables with @\n",
        "min_quantity = 100\n",
        "target_region = 'North'\n",
        "\n",
        "result = df.query('quantity >= @min_quantity and region == @target_region')\n",
        "print(f\"Sales >= {min_quantity} in {target_region}:\")\n",
        "print(result)"
      ]
    },
    {
      "cell_type": "markdown",
      "id": "88",
      "metadata": {
        "id": "88"
      },
      "source": [
        "### Combining `query()` with `loc[]` for Filtered Assignment"
      ]
    },
    {
      "cell_type": "markdown",
      "id": "89",
      "metadata": {
        "id": "89"
      },
      "source": [
        "You can combine filtering with assignment to modify specific subsets of data."
      ]
    },
    {
      "cell_type": "code",
      "execution_count": null,
      "id": "90",
      "metadata": {
        "id": "90"
      },
      "outputs": [],
      "source": [
        "# Create a copy to demonstrate\n",
        "df_modified = df.copy()\n",
        "\n",
        "# Add a discount column\n",
        "df_modified['discount'] = 0.0\n",
        "\n",
        "# Apply 10% discount to high-quantity orders using boolean indexing\n",
        "high_qty_mask = df_modified['quantity'] > 100\n",
        "df_modified.loc[high_qty_mask, 'discount'] = 0.10\n",
        "\n",
        "print(\"After applying discounts:\")\n",
        "print(df_modified)"
      ]
    },
    {
      "cell_type": "code",
      "execution_count": null,
      "id": "91",
      "metadata": {
        "id": "91"
      },
      "outputs": [],
      "source": [
        "# More complex: apply different discounts based on multiple conditions\n",
        "df_modified = df.copy()\n",
        "df_modified['discount'] = 0.0\n",
        "\n",
        "# 15% discount for large orders of Widget A\n",
        "mask1 = (df_modified['product'] == 'Widget A') & (df_modified['quantity'] > 150)\n",
        "df_modified.loc[mask1, 'discount'] = 0.15\n",
        "\n",
        "# 10% discount for all other large orders\n",
        "mask2 = (df_modified['quantity'] > 100) & (df_modified['discount'] == 0)\n",
        "df_modified.loc[mask2, 'discount'] = 0.10\n",
        "\n",
        "print(\"After tiered discounts:\")\n",
        "print(df_modified[['product', 'quantity', 'price', 'discount']])"
      ]
    },
    {
      "cell_type": "markdown",
      "id": "92",
      "metadata": {
        "id": "92"
      },
      "source": [
        "**Note:** When making filtered assignments, always use `.loc[]` to avoid the \"SettingWithCopyWarning\" that can indicate subtle bugs. This aligns with previous guidance for when to use various subsetting methods in Pandas."
      ]
    },
    {
      "cell_type": "markdown",
      "id": "93",
      "metadata": {
        "id": "93"
      },
      "source": [
        "## Custom Transformations with `apply()`"
      ]
    },
    {
      "cell_type": "markdown",
      "id": "94",
      "metadata": {
        "id": "94"
      },
      "source": [
        "While vectorized operations (like `df['price'] * 1.1`) are fast and should be used when possible, sometimes you need custom logic that doesn't fit a simple formula. That's where `apply()` comes in."
      ]
    },
    {
      "cell_type": "markdown",
      "id": "95",
      "metadata": {
        "id": "95"
      },
      "source": [
        "### Basic `apply()` with Lambda Functions"
      ]
    },
    {
      "cell_type": "markdown",
      "id": "96",
      "metadata": {
        "id": "96"
      },
      "source": [
        "The `apply()` method takes a function and applies it to each element (or row/column) of a Series or DataFrame."
      ]
    },
    {
      "cell_type": "code",
      "execution_count": null,
      "id": "97",
      "metadata": {
        "id": "97"
      },
      "outputs": [],
      "source": [
        "# Simple transformation: categorize quantities\n",
        "df['quantity_category'] = df['quantity'].apply(\n",
        "    lambda x: 'High' if x > 150 else 'Medium' if x > 100 else 'Low'\n",
        ")\n",
        "\n",
        "print(df[['quantity', 'quantity_category']])"
      ]
    },
    {
      "cell_type": "code",
      "execution_count": null,
      "id": "98",
      "metadata": {
        "id": "98"
      },
      "outputs": [],
      "source": [
        "# String manipulation: extract first word from product name\n",
        "df['product_type'] = df['product'].apply(lambda x: x.split()[0])\n",
        "\n",
        "print(df[['product', 'product_type']])"
      ]
    },
    {
      "cell_type": "markdown",
      "id": "99",
      "metadata": {
        "id": "99"
      },
      "source": [
        "### When to Use `apply()`"
      ]
    },
    {
      "cell_type": "markdown",
      "id": "100",
      "metadata": {
        "id": "100"
      },
      "source": [
        "Use `apply()` when:\n",
        "- The operation requires conditional logic (if/else)\n",
        "- You need to call functions that aren't vectorized\n",
        "- The transformation depends on multiple conditions\n",
        "\n",
        "Avoid `apply()` when:\n",
        "- A vectorized operation exists (e.g., `df['A'] + df['B']`)\n",
        "- A built-in Pandas method handles your case\n",
        "\n",
        "Vectorized operations are much faster than `apply()` for large datasets."
      ]
    },
    {
      "cell_type": "code",
      "execution_count": null,
      "id": "101",
      "metadata": {
        "id": "101"
      },
      "outputs": [],
      "source": [
        "# Example: Vectorized approach is better when possible\n",
        "\n",
        "# SLOW (using apply)\n",
        "# df['total'] = df.apply(lambda row: row['quantity'] * row['price'], axis=1)\n",
        "\n",
        "# FAST (vectorized)\n",
        "df['total'] = df['quantity'] * df['price']\n",
        "\n",
        "print(df[['quantity', 'price', 'total']])"
      ]
    },
    {
      "cell_type": "markdown",
      "id": "102",
      "metadata": {
        "id": "102"
      },
      "source": [
        "### Applying Functions to Rows"
      ]
    },
    {
      "cell_type": "markdown",
      "id": "103",
      "metadata": {
        "id": "103"
      },
      "source": [
        "By default, `apply()` works on columns. Use `axis=1` to work with rows."
      ]
    },
    {
      "cell_type": "code",
      "execution_count": null,
      "id": "104",
      "metadata": {
        "id": "104"
      },
      "outputs": [],
      "source": [
        "# Function that uses multiple columns\n",
        "def calculate_status(row):\n",
        "    if pd.isna(row['quantity']) or pd.isna(row['price']):\n",
        "        return 'Incomplete'\n",
        "    elif row['quantity'] * row['price'] > 5000:\n",
        "        return 'High Value'\n",
        "    elif row['quantity'] > 150:\n",
        "        return 'High Volume'\n",
        "    else:\n",
        "        return 'Standard'\n",
        "\n",
        "df['order_status'] = df.apply(calculate_status, axis=1)\n",
        "\n",
        "print(df[['quantity', 'price', 'order_status']])"
      ]
    },
    {
      "cell_type": "markdown",
      "id": "105",
      "metadata": {
        "id": "105"
      },
      "source": [
        "**Note:** Applying functions row-wise (`axis=1`) is generally slower than column-wise operations. When performance matters with large datasets, consider vectorized alternatives or NumPy functions."
      ]
    },
    {
      "cell_type": "markdown",
      "id": "106",
      "metadata": {
        "id": "106"
      },
      "source": [
        "## Working with Dates and Times"
      ]
    },
    {
      "cell_type": "markdown",
      "id": "107",
      "metadata": {
        "id": "107"
      },
      "source": [
        "Time series data is ubiquitous in data analysis. Pandas provides excellent support for dates and times, which we'll explore in depth in a future lesson (12a). For now, we'll cover the basics you need for most analyses.\n",
        "\n",
        "### Converting to Datetime"
      ]
    },
    {
      "cell_type": "markdown",
      "id": "108",
      "metadata": {
        "id": "108"
      },
      "source": [
        "We've seen the `parse_dates` parameter in `read_csv()`. You can also convert existing columns with `pd.to_datetime()`."
      ]
    },
    {
      "cell_type": "code",
      "execution_count": null,
      "id": "109",
      "metadata": {
        "id": "109"
      },
      "outputs": [],
      "source": [
        "# Create DataFrame with date strings\n",
        "date_data = pd.DataFrame({\n",
        "    'date_str': ['2024-01-15', '2024-02-20', '2024-03-10'],\n",
        "    'value': [100, 200, 150]\n",
        "})\n",
        "\n",
        "print(\"Before conversion:\")\n",
        "print(date_data.dtypes)\n",
        "\n",
        "# Convert to datetime\n",
        "date_data['date'] = pd.to_datetime(date_data['date_str'])\n",
        "\n",
        "print(\"\\nAfter conversion:\")\n",
        "print(date_data.dtypes)"
      ]
    },
    {
      "cell_type": "code",
      "execution_count": null,
      "id": "110",
      "metadata": {
        "id": "110"
      },
      "outputs": [],
      "source": [
        "# pd.to_datetime() can handle various formats with format='mixed'\n",
        "messy_dates = pd.Series([\n",
        "    '2024-01-15',\n",
        "    'January 15, 2024',\n",
        "    '01/15/2024',\n",
        "    '15-Jan-2024'\n",
        "])\n",
        "\n",
        "# Use format='mixed' to handle multiple date formats\n",
        "clean_dates = pd.to_datetime(messy_dates, format='mixed')\n",
        "print(\"Cleaned dates:\")\n",
        "print(clean_dates)"
      ]
    },
    {
      "cell_type": "markdown",
      "id": "111",
      "metadata": {
        "id": "111"
      },
      "source": [
        "### The `dt` Accessor"
      ]
    },
    {
      "cell_type": "markdown",
      "id": "112",
      "metadata": {
        "id": "112"
      },
      "source": [
        "Once a column is datetime type, the `.dt` accessor provides many useful properties and methods."
      ]
    },
    {
      "cell_type": "code",
      "execution_count": null,
      "id": "113",
      "metadata": {
        "id": "113"
      },
      "outputs": [],
      "source": [
        "# Using our sales data with dates\n",
        "df['date'] = pd.to_datetime(df['date'])\n",
        "\n",
        "# Extract components\n",
        "df['year'] = df['date'].dt.year\n",
        "df['month'] = df['date'].dt.month\n",
        "df['day'] = df['date'].dt.day\n",
        "df['day_name'] = df['date'].dt.day_name()\n",
        "\n",
        "print(df[['date', 'year', 'month', 'day', 'day_name']])"
      ]
    },
    {
      "cell_type": "code",
      "execution_count": null,
      "id": "114",
      "metadata": {
        "id": "114"
      },
      "outputs": [],
      "source": [
        "# Useful for grouping by time periods\n",
        "by_day = df.groupby(df['date'].dt.day_name())['quantity'].mean()\n",
        "print(\"Average quantity by day of week:\")\n",
        "print(by_day)"
      ]
    },
    {
      "cell_type": "markdown",
      "id": "115",
      "metadata": {
        "id": "115"
      },
      "source": [
        "### Common Datetime Operations"
      ]
    },
    {
      "cell_type": "code",
      "execution_count": null,
      "id": "116",
      "metadata": {
        "id": "116"
      },
      "outputs": [],
      "source": [
        "# Filter by date range\n",
        "jan_2024 = df[df['date'].dt.month == 1]\n",
        "print(\"January 2024 sales:\")\n",
        "print(jan_2024[['date', 'product', 'quantity']])"
      ]
    },
    {
      "cell_type": "code",
      "execution_count": null,
      "id": "117",
      "metadata": {
        "id": "117"
      },
      "outputs": [],
      "source": [
        "# Find weekend sales (Saturday=5, Sunday=6)\n",
        "df['is_weekend'] = df['date'].dt.dayofweek >= 5\n",
        "weekend_sales = df[df['is_weekend']]\n",
        "\n",
        "print(\"Weekend sales:\")\n",
        "print(weekend_sales[['date', 'day_name', 'quantity']])"
      ]
    },
    {
      "cell_type": "code",
      "execution_count": null,
      "id": "118",
      "metadata": {
        "id": "118"
      },
      "outputs": [],
      "source": [
        "# Calculate time differences\n",
        "df_sorted = df.sort_values('date')\n",
        "df_sorted['days_since_prev'] = df_sorted['date'].diff().dt.days\n",
        "\n",
        "print(\"Days between sales:\")\n",
        "print(df_sorted[['date', 'days_since_prev']])"
      ]
    },
    {
      "cell_type": "markdown",
      "id": "119",
      "metadata": {
        "id": "119"
      },
      "source": [
        "**Preview of 12a:** We'll cover time series in much more detail later, including resampling (aggregating by week/month), rolling windows (moving averages), time zones, and more advanced datetime operations. For now, these basics will handle most common needs."
      ]
    },
    {
      "cell_type": "markdown",
      "id": "120",
      "metadata": {
        "id": "120"
      },
      "source": [
        "## Putting It All Together: A Complete Workflow"
      ]
    },
    {
      "cell_type": "markdown",
      "id": "121",
      "metadata": {
        "id": "121"
      },
      "source": [
        "Let's combine everything we've learned in a realistic data processing workflow:\n",
        "\n",
        "1. Load\n",
        "2. Explore\n",
        "3. Clean\n",
        "4. Feature Engineering\n",
        "5. Filter and Analyze\n",
        "6. Save\n"
      ]
    },
    {
      "cell_type": "code",
      "execution_count": null,
      "id": "122",
      "metadata": {
        "id": "122"
      },
      "outputs": [],
      "source": [
        "# Create a more realistic sample dataset\n",
        "extended_data = \"\"\"date,product,quantity,price,region,customer_type\n",
        "2024-01-15,Widget A,100,25.50,North,retail\n",
        "2024-01-16,Widget B,150,30.00,South,wholesale\n",
        "2024-01-17,Widget A,200,25.50,East,retail\n",
        "2024-01-18,Widget C,75,45.00,West,retail\n",
        "2024-01-19,Widget B,125,30.00,North,wholesale\n",
        "2024-01-20,Widget A,,,South,retail\n",
        "2024-01-21,Widget C,90,45.00,East,wholesale\n",
        "2024-01-22,Widget A,175,25.50,North,retail\n",
        "2024-01-23,Widget B,200,30.00,West,wholesale\n",
        "2024-01-24,Widget C,50,45.00,South,retail\n",
        "\"\"\"\n",
        "\n",
        "with open('data/07a_extended_sales.csv', 'w') as f:\n",
        "    f.write(extended_data)"
      ]
    },
    {
      "cell_type": "code",
      "execution_count": null,
      "id": "123",
      "metadata": {
        "id": "123"
      },
      "outputs": [],
      "source": [
        "# Step 1: Load data with appropriate types\n",
        "sales = pd.read_csv('data/07a_extended_sales.csv',\n",
        "                    parse_dates=['date'],\n",
        "                    dtype={'region': 'category', 'customer_type': 'category'})\n",
        "\n",
        "print(\"Step 1 - Loaded data:\")\n",
        "print(sales.info())"
      ]
    },
    {
      "cell_type": "code",
      "execution_count": null,
      "id": "124",
      "metadata": {
        "id": "124"
      },
      "outputs": [],
      "source": [
        "# Step 2: Explore the data\n",
        "print(\"\\nStep 2 - Data exploration:\")\n",
        "print(\"\\nFirst few rows:\")\n",
        "print(sales.head())\n",
        "\n",
        "print(\"\\nSummary statistics:\")\n",
        "print(sales.describe())\n",
        "\n",
        "print(\"\\nMissing values:\")\n",
        "print(sales.isna().sum())\n",
        "\n",
        "print(\"\\nValue counts by region:\")\n",
        "print(sales['region'].value_counts())"
      ]
    },
    {
      "cell_type": "code",
      "execution_count": null,
      "id": "125",
      "metadata": {
        "id": "125"
      },
      "outputs": [],
      "source": [
        "# Step 3: Clean the data\n",
        "print(\"\\nStep 3 - Cleaning:\")\n",
        "\n",
        "# Drop rows with missing critical data\n",
        "# The 'subset' parameter specifies which columns to check for NaN\n",
        "# A row is dropped only if it has NaN in ANY of these specified columns\n",
        "sales_clean = sales.dropna(subset=['quantity', 'price'])\n",
        "print(f\"Removed {len(sales) - len(sales_clean)} rows with missing data\")\n",
        "\n",
        "# Set date as index for time-based operations\n",
        "sales_clean = sales_clean.set_index('date')"
      ]
    },
    {
      "cell_type": "code",
      "execution_count": null,
      "id": "126",
      "metadata": {
        "id": "126"
      },
      "outputs": [],
      "source": [
        "# Step 4: Create derived columns\n",
        "print(\"\\nStep 4 - Feature engineering:\")\n",
        "\n",
        "# Calculate revenue\n",
        "sales_clean['revenue'] = sales_clean['quantity'] * sales_clean['price']\n",
        "\n",
        "# Add day of week\n",
        "sales_clean['day_of_week'] = sales_clean.index.day_name()\n",
        "\n",
        "# Categorize order size\n",
        "sales_clean['order_size'] = sales_clean['quantity'].apply(\n",
        "    lambda x: 'Large' if x >= 175 else 'Medium' if x >= 100 else 'Small'\n",
        ")\n",
        "\n",
        "print(sales_clean[['quantity', 'price', 'revenue', 'order_size']].head())"
      ]
    },
    {
      "cell_type": "code",
      "execution_count": null,
      "id": "127",
      "metadata": {
        "id": "127"
      },
      "outputs": [],
      "source": [
        "# Step 5: Filter and analyze\n",
        "print(\"\\nStep 5 - Analysis:\")\n",
        "\n",
        "# High-value wholesale orders\n",
        "high_value_wholesale = sales_clean.query(\n",
        "    'customer_type == \"wholesale\" and revenue > 5000'\n",
        ")\n",
        "print(\"\\nHigh-value wholesale orders:\")\n",
        "print(high_value_wholesale[['product', 'region', 'revenue']])\n",
        "\n",
        "# Average revenue by customer type and region\n",
        "# observed=True prevents warning about future behavior change with categorical data\n",
        "avg_revenue = sales_clean.groupby(['customer_type', 'region'], observed=True)['revenue'].mean()\n",
        "print(\"\\nAverage revenue by customer type and region:\")\n",
        "print(avg_revenue.round(2))"
      ]
    },
    {
      "cell_type": "code",
      "execution_count": null,
      "id": "128",
      "metadata": {
        "id": "128"
      },
      "outputs": [],
      "source": [
        "# Step 6: Save processed data\n",
        "print(\"\\nStep 6 - Saving results:\")\n",
        "\n",
        "# Save full processed dataset\n",
        "sales_clean.to_csv('data/07a_sales_processed_final.csv')\n",
        "print(\"Saved processed data to 07a_sales_processed_final.csv\")\n",
        "\n",
        "# Save summary report\n",
        "summary = sales_clean.groupby(['product', 'customer_type'], observed=True).agg({\n",
        "    'quantity': 'sum',\n",
        "    'revenue': 'sum',\n",
        "    'region': 'count'\n",
        "}).rename(columns={'region': 'num_orders'})\n",
        "\n",
        "summary.to_csv('data/07a_sales_summary.csv')\n",
        "print(\"Saved summary report to 07a_sales_summary.csv\")\n",
        "print(\"\\nSummary:\")\n",
        "print(summary)"
      ]
    },
    {
      "cell_type": "markdown",
      "id": "129",
      "metadata": {
        "id": "129"
      },
      "source": [
        "## Summary\n",
        "\n",
        "In this notebook, we've covered the essential skills for working with real data in Pandas:\n",
        "\n",
        "**File I/O:**\n",
        "- Loading CSV files with `read_csv()` and controlling data types, date parsing, and missing values\n",
        "- Using `info()`, `describe()`, `value_counts()`, and `memory_usage()` to understand loaded data\n",
        "- Saving data with `to_csv()` and basic Excel operations\n",
        "\n",
        "**Index Operations:**\n",
        "- Setting meaningful indexes with `set_index()`\n",
        "- Resetting to default numeric indexes with `reset_index()`\n",
        "- Understanding when to use a custom index vs. default numeric index\n",
        "\n",
        "**Boolean Indexing:**\n",
        "- Filtering with complex conditions using `&`, `|`, and `~`\n",
        "- Using `isin()` for cleaner membership tests\n",
        "- Writing readable filters with `query()`\n",
        "- Combining filters with `loc[]` for conditional assignment\n",
        "\n",
        "**Custom Transformations:**\n",
        "- Using `apply()` with lambda functions for custom logic\n",
        "- Understanding when vectorized operations are better than `apply()`\n",
        "- Applying functions row-wise vs. column-wise\n",
        "\n",
        "**DateTime Basics:**\n",
        "- Converting strings to datetime with `pd.to_datetime()`\n",
        "- Extracting date components with the `.dt` accessor\n",
        "- Filtering and grouping by date attributes\n",
        "\n",
        "These skills form the foundation for most data analysis workflows. You can now load real datasets, explore their structure, clean and transform them, and save the results—the core loop of practical data work."
      ]
    }
  ],
  "metadata": {
    "kernelspec": {
      "display_name": "INSY6500-Py4EDA",
      "language": "python",
      "name": "insy6500-py4eda"
    },
    "language_info": {
      "codemirror_mode": {
        "name": "ipython",
        "version": 3
      },
      "file_extension": ".py",
      "mimetype": "text/x-python",
      "name": "python",
      "nbconvert_exporter": "python",
      "pygments_lexer": "ipython3",
      "version": "3.13.5"
    },
    "colab": {
      "provenance": []
    }
  },
  "nbformat": 4,
  "nbformat_minor": 5
}